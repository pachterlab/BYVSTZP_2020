{
  "nbformat": 4,
  "nbformat_minor": 0,
  "metadata": {
    "kernelspec": {
      "display_name": "Python 3",
      "language": "python",
      "name": "python3"
    },
    "language_info": {
      "codemirror_mode": {
        "name": "ipython",
        "version": 3
      },
      "file_extension": ".py",
      "mimetype": "text/x-python",
      "name": "python",
      "nbconvert_exporter": "python",
      "pygments_lexer": "ipython3",
      "version": "3.7.4"
    },
    "colab": {
      "name": "final-class_DE.ipynb",
      "provenance": [],
      "include_colab_link": true
    }
  },
  "cells": [
    {
      "cell_type": "markdown",
      "metadata": {
        "id": "view-in-github",
        "colab_type": "text"
      },
      "source": [
        "<a href=\"https://colab.research.google.com/github/pachterlab/BYVSTZP_2020/blob/master/analysis/notebooks/smartseq/differential_expression/class/final-class_DE.ipynb\" target=\"_parent\"><img src=\"https://colab.research.google.com/assets/colab-badge.svg\" alt=\"Open In Colab\"/></a>"
      ]
    },
    {
      "cell_type": "markdown",
      "metadata": {
        "id": "CTzIM3AbmfZg"
      },
      "source": [
        "# Class DE isoform hidden by gene"
      ]
    },
    {
      "cell_type": "code",
      "metadata": {
        "id": "T7VKmUc7mfZg"
      },
      "source": [
        "!mkdir -p plots tables"
      ],
      "execution_count": 1,
      "outputs": []
    },
    {
      "cell_type": "code",
      "metadata": {
        "id": "Le66r7XgmfZh",
        "outputId": "6b6366d9-d11e-4c8c-8074-ebaf194c8fca",
        "colab": {
          "base_uri": "https://localhost:8080/"
        }
      },
      "source": [
        "import sys\n",
        "\n",
        "colab = \"google.colab\" in sys.modules\n",
        "\n",
        "if colab:\n",
        "    # download files\n",
        "    !git clone https://github.com/pachterlab/BYVSTZP_2020.git\n",
        "    !wget -q --show-progress --progress=bar:force -O gene.h5ad.gz https://caltech.box.com/shared/static/2qut50hmb5r2zynd0dkihlj0qpwi6576.gz 2>&1\n",
        "    !wget -q --show-progress --progress=bar:force -O isoform.h5ad.gz https://caltech.box.com/shared/static/7n6n9fvs2737shskqaiamw0dob9rbwva.gz 2>&1\n",
        "    !gunzip *.gz\n",
        "\n",
        "    !pip install --quiet anndata"
      ],
      "execution_count": 2,
      "outputs": [
        {
          "output_type": "stream",
          "text": [
            "Cloning into 'BYVSTZP_2020'...\n",
            "remote: Enumerating objects: 1037, done.\u001b[K\n",
            "remote: Counting objects: 100% (157/157), done.\u001b[K\n",
            "remote: Compressing objects: 100% (123/123), done.\u001b[K\n",
            "remote: Total 1037 (delta 44), reused 132 (delta 32), pack-reused 880\u001b[K\n",
            "Receiving objects: 100% (1037/1037), 859.00 MiB | 31.70 MiB/s, done.\n",
            "Resolving deltas: 100% (249/249), done.\n",
            "Checking out files: 100% (323/323), done.\n",
            "gene.h5ad.gz        100%[===================>]   2.10G  23.7MB/s    in 94s     \n",
            "isoform.h5ad.gz     100%[===================>]   5.95G  27.6MB/s    in 3m 49s  \n",
            "\u001b[K     |████████████████████████████████| 133kB 3.5MB/s \n",
            "\u001b[?25h"
          ],
          "name": "stdout"
        }
      ]
    },
    {
      "cell_type": "code",
      "metadata": {
        "id": "6rHGzAf8mfZh"
      },
      "source": [
        "import anndata\n",
        "import pandas as pd\n",
        "import numpy as np\n",
        "import matplotlib.pyplot as plt\n",
        "import matplotlib as mpl\n",
        "import matplotlib.patches as mpatches\n",
        "from scipy.stats import ks_2samp, ttest_ind\n",
        "import ast\n",
        "from scipy.sparse import csr_matrix\n",
        "import warnings\n",
        "warnings.filterwarnings('ignore')\n",
        "\n",
        "sys.path.append('BYVSTZP_2020/dexpress')\n",
        "from dexpress import dexpress, utils, plot\n",
        "\n",
        "fsize=20\n",
        "\n",
        "plt.rcParams.update({'font.size': fsize})\n",
        "%config InlineBackend.figure_format = 'retina'"
      ],
      "execution_count": 3,
      "outputs": []
    },
    {
      "cell_type": "code",
      "metadata": {
        "id": "SWis76s3mfZi"
      },
      "source": [
        "cluster_cmap = {\n",
        "\"Astro\": (0.38823529411764707, 0.4745098039215686,  0.2235294117647059 ),  # 637939,\n",
        "\"Endo\" : (0.5490196078431373,  0.6352941176470588,  0.3215686274509804 ),  # 8ca252,\n",
        "\"SMC\"  : (0.7098039215686275,  0.8117647058823529,  0.4196078431372549 ),  # b5cf6b,\n",
        "\"VLMC\" : (0.807843137254902,   0.8588235294117647,  0.611764705882353  ),  # cedb9c,\n",
        "\"Low Quality\" : (0,0,0),\n",
        "\"L2/3 IT\" : (0.9921568627450981,  0.6823529411764706,  0.4196078431372549  ),  # fdae6b\n",
        "\"L5 PT\" : (0.9921568627450981,  0.8156862745098039,  0.6352941176470588  ),  # fdd0a2\n",
        "\"L5 IT\" : (0.5176470588235295,  0.23529411764705882, 0.2235294117647059 ),  # 843c39\n",
        "\"L5/6 NP\": \"#D43F3A\",\n",
        "\"L6 CT\" : (0.8392156862745098,  0.3803921568627451,  0.4196078431372549 ),  # d6616b\n",
        "\"L6 IT\" : (0.9058823529411765,  0.5882352941176471,  0.611764705882353  ),  # e7969c\n",
        "\"L6b\" : (1.0,                 0.4980392156862745,  0.054901960784313725),  # ff7f0e\n",
        "\"L6 IT Car3\" : (1.0,                 0.7333333333333333,  0.47058823529411764 ),  # ffbb78\n",
        "\"Lamp5\" : (0.19215686274509805, 0.5098039215686274,  0.7411764705882353  ),  # 3182bd # blues\n",
        "\"Sncg\" : (0.4196078431372549,  0.6823529411764706,  0.8392156862745098  ),  # 6baed6\n",
        "\"Vip\" : (0.6196078431372549,  0.792156862745098,   0.8823529411764706  ),  # 9ecae1\n",
        "\"Sst\" : (0.7764705882352941,  0.8588235294117647,  0.9372549019607843  ),  # c6dbef\n",
        "\"Pvalb\":(0.7372549019607844,  0.7411764705882353,  0.8627450980392157  ),  # bcbddc\n",
        "}"
      ],
      "execution_count": 4,
      "outputs": []
    },
    {
      "cell_type": "code",
      "metadata": {
        "id": "C2u1Jc9UmfZi"
      },
      "source": [
        "gene = anndata.read_h5ad(\"gene.h5ad\")\n",
        "isoform = anndata.read_h5ad(\"isoform.h5ad\")"
      ],
      "execution_count": 5,
      "outputs": []
    },
    {
      "cell_type": "code",
      "metadata": {
        "id": "OT3usj-ymfZj"
      },
      "source": [
        "isoform = isoform[:,isoform.var.sort_values(\"gene_id\").index]\n",
        "gene = gene[:,gene.var.sort_values(\"gene_id\").index]"
      ],
      "execution_count": 6,
      "outputs": []
    },
    {
      "cell_type": "code",
      "metadata": {
        "id": "7bqgCf8tmfZj",
        "outputId": "b6d0a3ed-49ae-4950-f6d3-98334011027d",
        "colab": {
          "base_uri": "https://localhost:8080/"
        }
      },
      "source": [
        "isoform = isoform[isoform.obs.eval(\"subclass_label != 'L5 IT'\").values]\n",
        "gene = gene[gene.obs.eval(\"subclass_label != 'L5 IT'\").values]"
      ],
      "execution_count": 7,
      "outputs": [
        {
          "output_type": "stream",
          "text": [
            "10-Jul-21 00:10:46 - NumExpr defaulting to 2 threads.\n"
          ],
          "name": "stderr"
        }
      ]
    },
    {
      "cell_type": "code",
      "metadata": {
        "id": "3PorZgi2mfZj",
        "outputId": "4f04084f-4d25-42ed-e745-b098cead5ac3",
        "colab": {
          "base_uri": "https://localhost:8080/"
        }
      },
      "source": [
        "print(isoform.shape)\n",
        "print(gene.shape)"
      ],
      "execution_count": 8,
      "outputs": [
        {
          "output_type": "stream",
          "text": [
            "(4599, 69172)\n",
            "(4599, 19190)\n"
          ],
          "name": "stdout"
        }
      ]
    },
    {
      "cell_type": "code",
      "metadata": {
        "id": "2mWhL8SWmfZk"
      },
      "source": [
        "mask = np.logical_or(gene.obs.class_label == \"Glutamatergic\", gene.obs.class_label == \"GABAergic\")\n",
        "\n",
        "c_gene = gene[mask]\n",
        "c_isoform = isoform[mask]"
      ],
      "execution_count": 9,
      "outputs": []
    },
    {
      "cell_type": "code",
      "metadata": {
        "id": "T13uE8MQmfZk",
        "outputId": "033f3a42-48b4-4917-c680-521566b44520",
        "colab": {
          "base_uri": "https://localhost:8080/"
        }
      },
      "source": [
        "%%time\n",
        "mat           = c_gene.layers[\"log1p\"].todense()\n",
        "components    = c_gene.obs.cell_id.values\n",
        "features      = c_gene.var.gene_name.values\n",
        "assignments   = c_gene.obs.class_label.values\n",
        "\n",
        "unique = np.unique(assignments)\n",
        "nan_cutoff = 0.9 # of elements in cluster\n",
        "corr_method = \"bonferroni\"\n",
        "\n",
        "\n",
        "p_raw, stat, es, nfeat = dexpress.dexpress(mat, components, features, assignments, nan_cutoff=nan_cutoff)\n",
        "p_raw = p_raw/2\n",
        "p_corr = utils.correct_pval(p_raw, nfeat, corr_method)\n",
        "\n",
        "s = stat\n",
        "\n",
        "markers_gene = dexpress.make_table(assignments, features, p_raw, p_corr, es)\n",
        "\n",
        "# convert the 0 pvalues to the smallest possible float\n",
        "markers_gene[\"p_corr\"][markers_gene.eval(\"p_corr == 0\").values] = sys.float_info.min\n",
        "markers_gene = markers_gene.query(\"es > 0\")"
      ],
      "execution_count": 10,
      "outputs": [
        {
          "output_type": "stream",
          "text": [
            "10-Jul-21 00:10:48 - 1 of 2 assignments: GABAergic\n",
            "10-Jul-21 00:10:50 - 2 of 2 assignments: Glutamatergic\n"
          ],
          "name": "stderr"
        },
        {
          "output_type": "stream",
          "text": [
            "CPU times: user 2.44 s, sys: 2.72 s, total: 5.16 s\n",
            "Wall time: 5.26 s\n"
          ],
          "name": "stdout"
        }
      ]
    },
    {
      "cell_type": "code",
      "metadata": {
        "id": "6vjHZRVns3wx"
      },
      "source": [
        "del mat"
      ],
      "execution_count": 11,
      "outputs": []
    },
    {
      "cell_type": "code",
      "metadata": {
        "id": "-UHAdHDpmfZl"
      },
      "source": [
        "%%time\n",
        "mat         = c_isoform.layers[\"log1p\"].todense() # expects dense matrix\n",
        "components  = c_isoform.obs.cell_id.values\n",
        "features    = c_isoform.var.transcript_name.values\n",
        "assignments = c_isoform.obs.class_label.values\n",
        "\n",
        "unique = np.unique(assignments)\n",
        "nan_cutoff = 0.9 # of elements in cluster\n",
        "corr_method = \"bonferroni\"\n",
        "\n",
        "\n",
        "p_raw, stat, es, nfeat = dexpress.dexpress(mat, components, features, assignments, nan_cutoff=nan_cutoff)\n",
        "p_raw = p_raw/2\n",
        "p_corr = dexpress.correct_pval(p_raw, nfeat, corr_method)\n",
        "\n",
        "s = stat\n",
        "\n",
        "markers_isoform = dexpress.make_table(assignments, features, p_raw, p_corr, es)\n",
        "\n",
        "# convert the 0 pvalues to the smallest possible float\n",
        "markers_isoform[\"p_corr\"][markers_isoform.eval(\"p_corr == 0\").values] = sys.float_info.min\n",
        "markers_isoform = markers_isoform.query(\"es > 0\")"
      ],
      "execution_count": null,
      "outputs": []
    },
    {
      "cell_type": "code",
      "metadata": {
        "id": "NgO2nT1Os5in"
      },
      "source": [
        "del mat"
      ],
      "execution_count": null,
      "outputs": []
    },
    {
      "cell_type": "markdown",
      "metadata": {
        "id": "9FluuKpXmfZl"
      },
      "source": [
        "# Want to make a mask to return the isoforms for which the isoform is differential but the gene is not"
      ]
    },
    {
      "cell_type": "code",
      "metadata": {
        "id": "O7vsvS0vmfZm"
      },
      "source": [
        "alpha =0.01\n",
        "fc = 2\n",
        "\n",
        "relevant_genes = markers_gene.p_corr < alpha\n",
        "\n",
        "markers_gene[\"index_name\"] = markers_gene[\"index\"] + \"_\" + markers_gene.name.apply(lambda x: \"\".join(x.split(\"_\")[:-1]))\n",
        "markers_isoform[\"index_name\"] = markers_isoform[\"index\"] + \"_\" + markers_isoform.name.apply(lambda x: \"-\".join(x.split(\"-\")[:-1]))\n",
        "\n",
        "setdiff = np.setdiff1d(markers_isoform[\"index_name\"].values, markers_gene[relevant_genes][\"index_name\"].values)"
      ],
      "execution_count": null,
      "outputs": []
    },
    {
      "cell_type": "code",
      "metadata": {
        "id": "UFYH7UxUmfZm"
      },
      "source": [
        "markers_isoform = markers_isoform[markers_isoform[\"index_name\"].isin(setdiff)].sort_values([\"es\", \"p_corr\"])\n",
        "\n",
        "markers_isoform = markers_isoform.query(f\"p_corr < {alpha}\")\n",
        "markers_isoform.sort_values(\"es\")[::-1][:20]"
      ],
      "execution_count": null,
      "outputs": []
    },
    {
      "cell_type": "code",
      "metadata": {
        "id": "MOVzfONymfZn"
      },
      "source": [
        "markers_gene[markers_gene.name.str.contains(\"Oxr1\")]"
      ],
      "execution_count": null,
      "outputs": []
    },
    {
      "cell_type": "code",
      "metadata": {
        "id": "IJl-sOvumfZn"
      },
      "source": [
        "specific_gene = \"Oxr1_ENSMUSG00000022307\"\n",
        "specific_isoform = \"Oxr1-204_ENSMUST00000110297\"\n",
        "\n",
        "specific_cluster = \"Glutamatergic\""
      ],
      "execution_count": null,
      "outputs": []
    },
    {
      "cell_type": "code",
      "metadata": {
        "id": "fHtKuP19mfZn"
      },
      "source": [
        "def violinplot(data, ax, **kwd): \n",
        "    xticklabels = kwd.get(\"xticklabels\", [])\n",
        "    xticks = kwd.get(\"xticks\", [])\n",
        "    selected = kwd.get(\"selected\", None)\n",
        "    color = kwd.get(\"color\", \"grey\")\n",
        "    \n",
        "    if  len(xticks)==0: xticks = np.arange(len(data))+1;\n",
        "    if  len(xticklabels)==0: xticklabels = np.arange(len(data))+1;\n",
        "    assert(len(xticks) == len(xticklabels))\n",
        "        \n",
        "    violins = ax.violinplot(data, positions=xticks, showmeans=False, showmedians=False, showextrema=False)\n",
        "    \n",
        "    for vidx, v in enumerate(violins['bodies']):\n",
        "        v.set_facecolor(color)\n",
        "        v.set_edgecolor('black')\n",
        "        v.set_alpha(1)\n",
        "        if selected == vidx:\n",
        "            v.set_facecolor(\"#D43F3A\")\n",
        "\n",
        "            \n",
        "    \n",
        "    for didx, d in enumerate(data):\n",
        "        x = xticks[didx]\n",
        "        xx = np.random.normal(x, 0.04, size=len(d))\n",
        "        \n",
        "        # actual points\n",
        "        ax.scatter(xx, d, s = 5, color=\"white\", edgecolor=\"black\", linewidth=1)\n",
        "        \n",
        "        # mean and error bars\n",
        "        mean = np.mean(d)\n",
        "        stdev = np.sqrt(np.var(d))\n",
        "        ax.scatter(x, mean, color=\"lightgrey\", edgecolor=\"black\", linewidth=1, zorder=10)    \n",
        "        ax.vlines(x, mean - stdev, mean+stdev, color='lightgrey', linestyle='-', lw=2, zorder=9)\n",
        "        \n",
        "    ax.set(**{\"xticks\": xticks, \"xticklabels\":xticklabels})\n",
        "    \n",
        "    return ax\n"
      ],
      "execution_count": null,
      "outputs": []
    },
    {
      "cell_type": "code",
      "metadata": {
        "id": "HSi1A6FSmfZo"
      },
      "source": [
        "fig, ax = plt.subplots(figsize=(10,5), nrows=2, sharex=True)\n",
        "fig.subplots_adjust(hspace=0, wspace=0)\n",
        "\n",
        "# Declare\n",
        "unique = np.unique(gene.obs.class_label)\n",
        "unique = np.delete(unique, np.where(unique==\"Low Quality\"))\n",
        "unique = np.delete(unique, np.where(unique==\"Non-Neuronal\"))\n",
        "labels = unique\n",
        "lidx = np.arange(1, len(labels)+1)  # the label locations\n",
        "midx = np.where(unique==specific_cluster)[0][0]\n",
        "\n",
        "## Plot\n",
        "# Gene\n",
        "x = []\n",
        "for c in unique:\n",
        "    x.append(np.asarray(gene[gene.obs.class_label==c][:,gene.var.gene_name==specific_gene].layers[\"log1p\"].todense()).reshape(-1).tolist())\n",
        "\n",
        "violinplot(x, ax[0], selected=midx)\n",
        "\n",
        "# Isoform\n",
        "x = []\n",
        "for c in unique:\n",
        "    x.append(np.asarray(isoform[isoform.obs.class_label==c][:,isoform.var.transcript_name==specific_isoform].layers[\"log1p\"].todense()).reshape(-1).tolist())\n",
        "\n",
        "violinplot(x, ax[1], selected=midx, xticks=lidx, xticklabels=labels)\n",
        "## Style\n",
        "ax[0].set(**{\n",
        "    \"title\":\"{} gene & {} isoform expression\".format(specific_gene.split(\"_\")[0], specific_isoform.split(\"_\")[0]),\n",
        "    \"ylabel\":\"Gene\",\n",
        "})\n",
        "\n",
        "\n",
        "ymin, ymax = ax[0].get_ylim()\n",
        "ax[1].set(**{\n",
        "    \"ylabel\":\"Isoform\",\n",
        "    \"ylim\": (ymin, ymax),\n",
        "})\n",
        "\n",
        "plt.savefig(\"plots/class_DE_violin_{}.png\".format(specific_gene.split(\"_\")[0]), bbox_inches='tight',dpi=300)\n",
        "plt.show()"
      ],
      "execution_count": null,
      "outputs": []
    },
    {
      "cell_type": "code",
      "metadata": {
        "id": "1UHc3zrqmfZo"
      },
      "source": [
        "complement_color = (0.8, 0.8, 0.8, 1.0)\n",
        "\n",
        "fig, ax = plt.subplots(figsize=(30,10), ncols=3)\n",
        "\n",
        "x = gene.obsm[\"X_nca_tsne\"][:,0]\n",
        "y = gene.obsm[\"X_nca_tsne\"][:,1]\n",
        "c = np.asarray(gene[:, gene.var.gene_name==specific_gene].layers[\"log1p\"].todense()).reshape(-1)\n",
        "argsort = np.argsort(c)\n",
        "x = x[argsort]\n",
        "y = y[argsort]\n",
        "c = c[argsort]\n",
        "cmap=\"Greys\"\n",
        "alpha = 0.75\n",
        "ax[0].set_title(\"Non-differential gene: {}\".format(specific_gene.split(\"_\")[0]))\n",
        "\n",
        "ax[0].scatter(x, y, c=c, cmap=cmap, alpha=alpha)\n",
        "ax[0].set_axis_off()\n",
        "\n",
        "\n",
        "x = gene.obsm[\"X_nca_tsne\"][:,0]\n",
        "y = gene.obsm[\"X_nca_tsne\"][:,1]\n",
        "c = np.asarray(isoform[:, isoform.var.transcript_name==specific_isoform].layers[\"log1p\"].todense()).reshape(-1)\n",
        "argsort = np.argsort(c)\n",
        "x = x[argsort]\n",
        "y = y[argsort]\n",
        "c = c[argsort]\n",
        "cmap=\"Greys\"\n",
        "alpha = 0.75\n",
        "ax[1].set_title(\"Differential isoform: {}\".format(specific_isoform.split(\"_\")[0]))\n",
        "\n",
        "ax[1].scatter(x, y, c=c, cmap=cmap, alpha=alpha)\n",
        "ax[1].set_axis_off()\n",
        "\n",
        "x = gene.obsm[\"X_nca_tsne\"][:,0]\n",
        "y = gene.obsm[\"X_nca_tsne\"][:,1]\n",
        "c = gene.obs[\"subclass_label\"]==specific_cluster\n",
        "c = gene.obs[\"subclass_label\"].astype(str).map(cluster_cmap).tolist()\n",
        "indices = np.where(gene.obs[\"class_label\"]!=specific_cluster)[0]\n",
        "replacements=[complement_color]*len(indices)\n",
        "for (index, replacement) in zip(indices, replacements):\n",
        "    c[index] = replacement\n",
        "alpha=0.75\n",
        "cmap=\"nipy_spectral_r\"\n",
        "\n",
        "ax[2].scatter(x, y, c=c, cmap=cmap, alpha=alpha)\n",
        "ax[2].set_axis_off()\n",
        "ax[2].set_title(\"Cluster: {}\".format(specific_cluster))\n",
        "plt.savefig(\"plots/class_DE_nca_{}.png\".format(specific_gene.split(\"_\")[0]), bbox_inches='tight',dpi=300)\n",
        "plt.show()"
      ],
      "execution_count": null,
      "outputs": []
    },
    {
      "cell_type": "code",
      "metadata": {
        "id": "AA8kwqrsmfZp"
      },
      "source": [
        "identified_isoforms = markers_isoform[\"name\"].explode().astype(str)"
      ],
      "execution_count": null,
      "outputs": []
    },
    {
      "cell_type": "code",
      "metadata": {
        "id": "bpNpHoyWmfZp"
      },
      "source": [
        "identified_genes = identified_isoforms.apply(lambda x: x.split(\"-\")[0:-1][0])"
      ],
      "execution_count": null,
      "outputs": []
    },
    {
      "cell_type": "code",
      "metadata": {
        "id": "_dQaxSu-mfZp"
      },
      "source": [
        "print(\"{} isoforms from {} genes identified.\".format(identified_isoforms.shape[0], identified_genes.nunique()))"
      ],
      "execution_count": null,
      "outputs": []
    },
    {
      "cell_type": "code",
      "metadata": {
        "id": "uvHbeuB2mfZq"
      },
      "source": [
        "markers_isoform.to_csv(\"tables/class_DE.csv\")"
      ],
      "execution_count": null,
      "outputs": []
    },
    {
      "cell_type": "code",
      "metadata": {
        "id": "4w6secSimfZq"
      },
      "source": [
        ""
      ],
      "execution_count": null,
      "outputs": []
    }
  ]
}
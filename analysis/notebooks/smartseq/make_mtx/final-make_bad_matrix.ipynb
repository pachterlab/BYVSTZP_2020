{
 "cells": [
  {
   "cell_type": "code",
   "execution_count": 1,
   "metadata": {},
   "outputs": [
    {
     "name": "stdout",
     "output_type": "stream",
     "text": [
      "Fri Oct 23 08:33:45 PDT 2020\n"
     ]
    }
   ],
   "source": [
    "!date"
   ]
  },
  {
   "cell_type": "markdown",
   "metadata": {},
   "source": [
    "# Bad gene matrix creation"
   ]
  },
  {
   "cell_type": "code",
   "execution_count": 1,
   "metadata": {},
   "outputs": [],
   "source": [
    "import anndata\n",
    "import pandas as pd\n",
    "import numpy as np\n",
    "import matplotlib.pyplot as plt\n",
    "import matplotlib as mpl\n",
    "import matplotlib.patches as mpatches\n",
    "import scanpy as scanp\n",
    "from scipy.stats import ks_2samp, ttest_ind\n",
    "from scipy.sparse import csr_matrix, lil_matrix\n",
    "from sklearn.preprocessing import normalize\n",
    "from sklearn.decomposition import TruncatedSVD\n",
    "from sklearn.manifold import TSNE\n",
    "from umap import UMAP\n",
    "from sklearn.cluster import KMeans\n",
    "from sklearn.metrics import adjusted_rand_score\n",
    "from sklearn.preprocessing import LabelEncoder\n",
    "from sklearn.neighbors import NeighborhoodComponentsAnalysis\n",
    "from matplotlib import cm\n",
    "\n",
    "import warnings\n",
    "warnings.filterwarnings('ignore')\n",
    "import sys\n",
    "sys.path.append('/home/sina/projects/mop/BYVSTZP_2020/trackfig')\n",
    "from trackfig.utils import get_notebook_name\n",
    "from trackfig.trackfig import trackfig \n",
    "\n",
    "TRACKFIG = \"/home/sina/projects/mop/BYVSTZP_2020/trackfig.txt\"\n",
    "NB = get_notebook_name()\n",
    "\n",
    "fsize=20\n",
    "\n",
    "plt.rcParams.update({'font.size': fsize})\n",
    "%config InlineBackend.figure_format = 'retina'"
   ]
  },
  {
   "cell_type": "code",
   "execution_count": 3,
   "metadata": {},
   "outputs": [],
   "source": [
    "adata = \"../../data/SMARTseq/out_cr_index/annotated_adata.h5ad\"\n",
    "adata = anndata.read_h5ad(adata)\n",
    "adata.var[\"gene_name\"] = adata.var[\"gene_name\"].astype(str) + \"_\" + adata.var.gene_id.astype(str)\n",
    "adata.var[\"transcript_name\"] = adata.var[\"transcript_name\"].astype(str) + \"_\" + adata.var.transcript_id.astype(str)"
   ]
  },
  {
   "cell_type": "code",
   "execution_count": 4,
   "metadata": {},
   "outputs": [],
   "source": [
    "def change(x):\n",
    "    if x==\"L5 ET\": return \"L5 PT\"\n",
    "    return x"
   ]
  },
  {
   "cell_type": "code",
   "execution_count": 5,
   "metadata": {},
   "outputs": [
    {
     "data": {
      "text/plain": [
       "L5 IT          1571\n",
       "L6 CT           904\n",
       "Vip             659\n",
       "L6b             571\n",
       "Pvalb           543\n",
       "L2/3 IT         483\n",
       "Sst             427\n",
       "L6 IT           395\n",
       "Lamp5           377\n",
       "L5/6 NP         208\n",
       "Sncg             84\n",
       "SMC              21\n",
       "L5 ET            12\n",
       "Low Quality      12\n",
       "Astro            10\n",
       "Endo              7\n",
       "VLMC              6\n",
       "L6 IT Car3        5\n",
       "Name: subclass_label, dtype: int64"
      ]
     },
     "execution_count": 5,
     "metadata": {},
     "output_type": "execute_result"
    }
   ],
   "source": [
    "adata.obs.subclass_label.value_counts()"
   ]
  },
  {
   "cell_type": "code",
   "execution_count": 6,
   "metadata": {},
   "outputs": [],
   "source": [
    "adata.obs.cluster_label = adata.obs.cluster_label.apply(change).values\n",
    "adata.obs.subclass_label = adata.obs.subclass_label.apply(change).values"
   ]
  },
  {
   "cell_type": "code",
   "execution_count": 7,
   "metadata": {},
   "outputs": [
    {
     "data": {
      "text/plain": [
       "L5 IT          1571\n",
       "L6 CT           904\n",
       "Vip             659\n",
       "L6b             571\n",
       "Pvalb           543\n",
       "L2/3 IT         483\n",
       "Sst             427\n",
       "L6 IT           395\n",
       "Lamp5           377\n",
       "L5/6 NP         208\n",
       "Sncg             84\n",
       "SMC              21\n",
       "L5 PT            12\n",
       "Low Quality      12\n",
       "Astro            10\n",
       "Endo              7\n",
       "VLMC              6\n",
       "L6 IT Car3        5\n",
       "Name: subclass_label, dtype: int64"
      ]
     },
     "execution_count": 7,
     "metadata": {},
     "output_type": "execute_result"
    }
   ],
   "source": [
    "adata.obs.subclass_label.value_counts()"
   ]
  },
  {
   "cell_type": "code",
   "execution_count": 9,
   "metadata": {},
   "outputs": [],
   "source": [
    "lengths = pd.read_csv(\"../../reference/length_info.txt\", header=None, names=[\"length\", \"transcript_id\", \"gene_id\", \"gene_name\", \"transcript_name\", \"chr\", \"start\", \"end\", \"strand\"], sep=\"\\t\")\n",
    "lengths[\"transcript_id\"] = lengths[\"transcript_id\"].apply(lambda x: x.split(\".\")[0])\n",
    "lengths.index = lengths.transcript_id.values"
   ]
  },
  {
   "cell_type": "code",
   "execution_count": 10,
   "metadata": {},
   "outputs": [],
   "source": [
    "adata.var[\"length\"] = adata.var.transcript_id.map(lengths[\"length\"])"
   ]
  },
  {
   "cell_type": "code",
   "execution_count": 11,
   "metadata": {},
   "outputs": [
    {
     "data": {
      "text/html": [
       "<div>\n",
       "<style scoped>\n",
       "    .dataframe tbody tr th:only-of-type {\n",
       "        vertical-align: middle;\n",
       "    }\n",
       "\n",
       "    .dataframe tbody tr th {\n",
       "        vertical-align: top;\n",
       "    }\n",
       "\n",
       "    .dataframe thead th {\n",
       "        text-align: right;\n",
       "    }\n",
       "</style>\n",
       "<table border=\"1\" class=\"dataframe\">\n",
       "  <thead>\n",
       "    <tr style=\"text-align: right;\">\n",
       "      <th></th>\n",
       "      <th>transcript_id</th>\n",
       "      <th>gene_id</th>\n",
       "      <th>gene_name</th>\n",
       "      <th>transcript_name</th>\n",
       "      <th>length</th>\n",
       "    </tr>\n",
       "  </thead>\n",
       "  <tbody>\n",
       "    <tr>\n",
       "      <th>0</th>\n",
       "      <td>ENSMUST00000162897</td>\n",
       "      <td>ENSMUSG00000051951</td>\n",
       "      <td>Xkr4_ENSMUSG00000051951</td>\n",
       "      <td>Xkr4-203_ENSMUST00000162897</td>\n",
       "      <td>4153</td>\n",
       "    </tr>\n",
       "    <tr>\n",
       "      <th>1</th>\n",
       "      <td>ENSMUST00000159265</td>\n",
       "      <td>ENSMUSG00000051951</td>\n",
       "      <td>Xkr4_ENSMUSG00000051951</td>\n",
       "      <td>Xkr4-202_ENSMUST00000159265</td>\n",
       "      <td>2989</td>\n",
       "    </tr>\n",
       "    <tr>\n",
       "      <th>2</th>\n",
       "      <td>ENSMUST00000070533</td>\n",
       "      <td>ENSMUSG00000051951</td>\n",
       "      <td>Xkr4_ENSMUSG00000051951</td>\n",
       "      <td>Xkr4-201_ENSMUST00000070533</td>\n",
       "      <td>3634</td>\n",
       "    </tr>\n",
       "    <tr>\n",
       "      <th>3</th>\n",
       "      <td>ENSMUST00000161581</td>\n",
       "      <td>ENSMUSG00000089699</td>\n",
       "      <td>Gm1992_ENSMUSG00000089699</td>\n",
       "      <td>Gm1992-201_ENSMUST00000161581</td>\n",
       "      <td>250</td>\n",
       "    </tr>\n",
       "    <tr>\n",
       "      <th>4</th>\n",
       "      <td>ENSMUST00000194643</td>\n",
       "      <td>ENSMUSG00000102343</td>\n",
       "      <td>Gm37381_ENSMUSG00000102343</td>\n",
       "      <td>Gm37381-202_ENSMUST00000194643</td>\n",
       "      <td>657</td>\n",
       "    </tr>\n",
       "  </tbody>\n",
       "</table>\n",
       "</div>"
      ],
      "text/plain": [
       "        transcript_id             gene_id                   gene_name  \\\n",
       "0  ENSMUST00000162897  ENSMUSG00000051951     Xkr4_ENSMUSG00000051951   \n",
       "1  ENSMUST00000159265  ENSMUSG00000051951     Xkr4_ENSMUSG00000051951   \n",
       "2  ENSMUST00000070533  ENSMUSG00000051951     Xkr4_ENSMUSG00000051951   \n",
       "3  ENSMUST00000161581  ENSMUSG00000089699   Gm1992_ENSMUSG00000089699   \n",
       "4  ENSMUST00000194643  ENSMUSG00000102343  Gm37381_ENSMUSG00000102343   \n",
       "\n",
       "                  transcript_name  length  \n",
       "0     Xkr4-203_ENSMUST00000162897    4153  \n",
       "1     Xkr4-202_ENSMUST00000159265    2989  \n",
       "2     Xkr4-201_ENSMUST00000070533    3634  \n",
       "3   Gm1992-201_ENSMUST00000161581     250  \n",
       "4  Gm37381-202_ENSMUST00000194643     657  "
      ]
     },
     "execution_count": 11,
     "metadata": {},
     "output_type": "execute_result"
    }
   ],
   "source": [
    "adata.var.head()"
   ]
  },
  {
   "cell_type": "code",
   "execution_count": 12,
   "metadata": {},
   "outputs": [
    {
     "data": {
      "text/plain": [
       "<6295x111079 sparse matrix of type '<class 'numpy.float32'>'\n",
       "\twith 127905436 stored elements in Compressed Sparse Row format>"
      ]
     },
     "execution_count": 12,
     "metadata": {},
     "output_type": "execute_result"
    }
   ],
   "source": [
    "adata.X"
   ]
  },
  {
   "cell_type": "code",
   "execution_count": 13,
   "metadata": {},
   "outputs": [],
   "source": [
    "adata.layers[\"X\"] = adata.X"
   ]
  },
  {
   "cell_type": "code",
   "execution_count": 14,
   "metadata": {},
   "outputs": [],
   "source": [
    "adata.layers[\"norm\"] = normalize(adata.X, norm='l1', axis=1)*1000000"
   ]
  },
  {
   "cell_type": "code",
   "execution_count": 15,
   "metadata": {},
   "outputs": [
    {
     "data": {
      "text/plain": [
       "999999.9926279355"
      ]
     },
     "execution_count": 15,
     "metadata": {},
     "output_type": "execute_result"
    }
   ],
   "source": [
    "adata.layers[\"norm\"][0].sum()"
   ]
  },
  {
   "cell_type": "code",
   "execution_count": 16,
   "metadata": {},
   "outputs": [],
   "source": [
    "adata.layers[\"log1p\"] = np.log1p(adata.layers[\"norm\"])"
   ]
  },
  {
   "cell_type": "code",
   "execution_count": 17,
   "metadata": {},
   "outputs": [
    {
     "data": {
      "text/plain": [
       "999999.9926279355"
      ]
     },
     "execution_count": 17,
     "metadata": {},
     "output_type": "execute_result"
    }
   ],
   "source": [
    "adata.layers[\"norm\"][0].sum()"
   ]
  },
  {
   "cell_type": "code",
   "execution_count": 18,
   "metadata": {},
   "outputs": [],
   "source": [
    "adata.X = adata.layers[\"norm\"]"
   ]
  },
  {
   "cell_type": "code",
   "execution_count": 19,
   "metadata": {},
   "outputs": [
    {
     "data": {
      "text/plain": [
       "999999.9926279355"
      ]
     },
     "execution_count": 19,
     "metadata": {},
     "output_type": "execute_result"
    }
   ],
   "source": [
    "adata.layers[\"norm\"][0].sum()"
   ]
  },
  {
   "cell_type": "code",
   "execution_count": 20,
   "metadata": {},
   "outputs": [
    {
     "data": {
      "text/plain": [
       "999999.9926279355"
      ]
     },
     "execution_count": 20,
     "metadata": {},
     "output_type": "execute_result"
    }
   ],
   "source": [
    "adata.layers[\"norm\"][0].sum()"
   ]
  },
  {
   "cell_type": "code",
   "execution_count": 21,
   "metadata": {},
   "outputs": [
    {
     "data": {
      "text/plain": [
       "999999.9926279355"
      ]
     },
     "execution_count": 21,
     "metadata": {},
     "output_type": "execute_result"
    }
   ],
   "source": [
    "adata.layers[\"norm\"][0].sum()"
   ]
  },
  {
   "cell_type": "code",
   "execution_count": 22,
   "metadata": {},
   "outputs": [],
   "source": [
    "def group_mtx(mtx, components, features, s2t, source_id=\"transcript_id\", target_id=\"gene_id\", by=\"features\"):\n",
    "    \"\"\"\n",
    "    mtx: ndarray components by features \n",
    "    components: labels for rows of mtx\n",
    "    features: labels for columns of mtx\n",
    "    s2t: pandas dataframe mapping source (features or components) to a\n",
    "    targets features(components) to group by\n",
    "    target_id: column name in s2t to group by\n",
    "    \"\"\"\n",
    "    if target_id not in s2t.columns: return -1\n",
    "    \n",
    "    ncomp   = components.shape[0]\n",
    "    nfeat   = features.shape[0]\n",
    "    ntarget = s2t[target_id].nunique()\n",
    "    \n",
    "    if by ==\"features\": \n",
    "        source = features\n",
    "    elif by ==\"components\": \n",
    "        source = components\n",
    "    \n",
    "    # Map the source to an index\n",
    "    source2idx = dict(zip(source, range(len(source))))\n",
    "    # Map the target to a list of source indices\n",
    "    target2idx = (s2t.groupby(target_id)[source_id].apply(lambda x: [source2idx[i] for i in x])).to_dict()\n",
    "    \n",
    "    # array of unique targets\n",
    "    unique = s2t[target_id].unique().astype(str)\n",
    "    nuniq = unique.shape[0]\n",
    "    X = np.zeros((ncomp, nuniq))\n",
    "    \n",
    "    for tidx, t in enumerate(unique):\n",
    "        # Grab the matrix indices corresponding to columns and source columns to group by\n",
    "        source_indices = target2idx[t]\n",
    "        \n",
    "        # breaks generality\n",
    "        sub_mtx = mtx[:, source_indices].sum(axis=1) # Sum on source indicies\n",
    "        X[:,tidx] = np.asarray(sub_mtx)[:,0] # place summed vector in new matrix\n",
    "        \n",
    "    # Return matrix that is grouped by\n",
    "    return (X, components, unique)\n",
    "    \n",
    "def filter_mtx(mtx, components, features, **kwargs):\n",
    "    row_counts = kwargs.get(\"row_counts\", 0) # threshold for min counts for rows\n",
    "    col_counts = kwargs.get(\"col_counts\", 0)\n",
    "    row_zeros  = kwargs.get(\"row_zeros\", 0) # threshold min number of non_zero entries in rows\n",
    "    col_zeros  = kwargs.get(\"col_zeros\", 0)\n",
    "    \n",
    "    return_mask = kwargs.get(\"return_mask\", False)\n",
    "    \n",
    "    row_sum = np.asarray(mtx.sum(axis=1)).reshape(-1) # sum along the rows\n",
    "    col_sum = np.asarray(mtx.sum(axis=0)).reshape(-1)\n",
    "    \n",
    "    mtx_zero_mask = mtx>0\n",
    "    row_nz = np.asarray(mtx_zero_mask.sum(axis=1)).reshape(-1)\n",
    "    col_nz = np.asarray(mtx_zero_mask.sum(axis=0)).reshape(-1)\n",
    "    \n",
    "    # Generate masks\n",
    "    rs_mask = row_sum > row_counts\n",
    "    cs_mask = col_sum > col_counts\n",
    "    \n",
    "    rz_mask = row_nz > row_zeros\n",
    "    cz_mask = col_nz > col_zeros\n",
    "    \n",
    "    row_mask = np.logical_and(rs_mask, rz_mask)\n",
    "    col_mask = np.logical_and(cs_mask, cz_mask)\n",
    "    \n",
    "    if return_mask:\n",
    "        return (row_mask, col_mask)\n",
    "    \n",
    "    X = mtx[row_mask,:][:,col_mask]\n",
    "    c = components[row_mask]\n",
    "    f = features[col_mask]\n",
    "    \n",
    "    return (X, c, f)"
   ]
  },
  {
   "cell_type": "code",
   "execution_count": 23,
   "metadata": {},
   "outputs": [
    {
     "name": "stdout",
     "output_type": "stream",
     "text": [
      "CPU times: user 163 µs, sys: 43 µs, total: 206 µs\n",
      "Wall time: 199 µs\n"
     ]
    }
   ],
   "source": [
    "%%time\n",
    "\n",
    "mtx = np.array([[1,1,0],\n",
    "                [0,1,0],\n",
    "                [3,0,0],\n",
    "                [0,2,0]])\n",
    "\n",
    "components = np.array([1,2,3,4])\n",
    "features = np.array([1, 2, 3])\n",
    "\n",
    "X, c, f = filter_mtx(mtx, components, features, row_zeros=1, col_zeros=3)\n",
    "rm, cmask = filter_mtx(mtx, components, features, return_mask=True)"
   ]
  },
  {
   "cell_type": "code",
   "execution_count": 24,
   "metadata": {},
   "outputs": [
    {
     "data": {
      "text/plain": [
       "array([ True,  True, False])"
      ]
     },
     "execution_count": 24,
     "metadata": {},
     "output_type": "execute_result"
    }
   ],
   "source": [
    "cmask"
   ]
  },
  {
   "cell_type": "code",
   "execution_count": 25,
   "metadata": {},
   "outputs": [
    {
     "data": {
      "text/plain": [
       "array([], shape=(1, 0), dtype=int64)"
      ]
     },
     "execution_count": 25,
     "metadata": {},
     "output_type": "execute_result"
    }
   ],
   "source": [
    "X"
   ]
  },
  {
   "cell_type": "code",
   "execution_count": 26,
   "metadata": {},
   "outputs": [
    {
     "data": {
      "text/plain": [
       "False"
      ]
     },
     "execution_count": 26,
     "metadata": {},
     "output_type": "execute_result"
    }
   ],
   "source": [
    "X==mtx"
   ]
  },
  {
   "cell_type": "markdown",
   "metadata": {},
   "source": [
    "# Group isoforms into genes, and filter. \n",
    "\n",
    "go back and filter on isoforms and apply it to genes"
   ]
  },
  {
   "cell_type": "code",
   "execution_count": 27,
   "metadata": {},
   "outputs": [
    {
     "name": "stdout",
     "output_type": "stream",
     "text": [
      "CPU times: user 1.24 s, sys: 540 ms, total: 1.78 s\n",
      "Wall time: 1.8 s\n"
     ]
    }
   ],
   "source": [
    "%%time\n",
    "\n",
    "mtx        = adata.layers[\"X\"]\n",
    "components = adata.obs.cell_id.values\n",
    "features   = adata.var.transcript_id.values\n",
    "\n",
    "\n",
    "rm, cmask = filter_mtx(mtx, components, features, col_counts=100, col_zeros=10, return_mask=True)"
   ]
  },
  {
   "cell_type": "code",
   "execution_count": 28,
   "metadata": {},
   "outputs": [
    {
     "data": {
      "text/plain": [
       "88008"
      ]
     },
     "execution_count": 28,
     "metadata": {},
     "output_type": "execute_result"
    }
   ],
   "source": [
    "cmask.sum()"
   ]
  },
  {
   "cell_type": "code",
   "execution_count": 29,
   "metadata": {},
   "outputs": [],
   "source": [
    "adata = adata\n",
    "\n",
    "mtx        = adata.layers[\"X\"]\n",
    "components = adata.obs.cell_id.values\n",
    "features   = adata.var.transcript_id.values"
   ]
  },
  {
   "cell_type": "code",
   "execution_count": 30,
   "metadata": {},
   "outputs": [
    {
     "data": {
      "text/plain": [
       "AnnData object with n_obs × n_vars = 6295 × 111079\n",
       "    obs: 'cluster_id', 'cluster_label', 'subclass_label', 'class_label', 'cluster_color', 'size', 'cell_id'\n",
       "    var: 'transcript_id', 'gene_id', 'gene_name', 'transcript_name', 'length'\n",
       "    layers: 'X', 'norm', 'log1p'"
      ]
     },
     "execution_count": 30,
     "metadata": {},
     "output_type": "execute_result"
    }
   ],
   "source": [
    "adata"
   ]
  },
  {
   "cell_type": "code",
   "execution_count": 31,
   "metadata": {},
   "outputs": [
    {
     "name": "stdout",
     "output_type": "stream",
     "text": [
      "CPU times: user 22.3 s, sys: 2.54 s, total: 24.9 s\n",
      "Wall time: 24.9 s\n"
     ]
    }
   ],
   "source": [
    "%%time\n",
    "\n",
    "mtx        = adata.layers[\"X\"].todense()\n",
    "components = adata.obs.cell_id.values\n",
    "features   = adata.var.transcript_id.values\n",
    "\n",
    "source_id = \"transcript_id\"\n",
    "target_id = \"gene_id\"\n",
    "\n",
    "\n",
    "s2t = adata.var\n",
    "\n",
    "# Data for gene matrix\n",
    "X, c, f = group_mtx(mtx, components, features, s2t)"
   ]
  },
  {
   "cell_type": "code",
   "execution_count": 32,
   "metadata": {},
   "outputs": [
    {
     "data": {
      "text/plain": [
       "AnnData object with n_obs × n_vars = 6295 × 111079\n",
       "    obs: 'cluster_id', 'cluster_label', 'subclass_label', 'class_label', 'cluster_color', 'size', 'cell_id'\n",
       "    var: 'transcript_id', 'gene_id', 'gene_name', 'transcript_name', 'length'\n",
       "    layers: 'X', 'norm', 'log1p'"
      ]
     },
     "execution_count": 32,
     "metadata": {},
     "output_type": "execute_result"
    }
   ],
   "source": [
    "adata"
   ]
  },
  {
   "cell_type": "code",
   "execution_count": 33,
   "metadata": {},
   "outputs": [],
   "source": [
    "# generate isoform based on gene mask.\n",
    "isoform = adata[:, adata.var.gene_id.isin(f)]"
   ]
  },
  {
   "cell_type": "code",
   "execution_count": 34,
   "metadata": {},
   "outputs": [],
   "source": [
    "# generate gene\n",
    "tmp = adata.var.drop_duplicates([\"gene_id\", \"gene_name\"])\n",
    "tmp = tmp[tmp.gene_id.isin(f)]\n",
    "gene = anndata.AnnData(X=X, obs=adata.obs, var=tmp)"
   ]
  },
  {
   "cell_type": "code",
   "execution_count": 35,
   "metadata": {},
   "outputs": [
    {
     "name": "stdout",
     "output_type": "stream",
     "text": [
      "View of AnnData object with n_obs × n_vars = 6295 × 111079\n",
      "    obs: 'cluster_id', 'cluster_label', 'subclass_label', 'class_label', 'cluster_color', 'size', 'cell_id'\n",
      "    var: 'transcript_id', 'gene_id', 'gene_name', 'transcript_name', 'length'\n",
      "    layers: 'X', 'norm', 'log1p'\n",
      "AnnData object with n_obs × n_vars = 6295 × 31053\n",
      "    obs: 'cluster_id', 'cluster_label', 'subclass_label', 'class_label', 'cluster_color', 'size', 'cell_id'\n",
      "    var: 'transcript_id', 'gene_id', 'gene_name', 'transcript_name', 'length'\n"
     ]
    }
   ],
   "source": [
    "print(isoform)\n",
    "print(gene)"
   ]
  },
  {
   "cell_type": "code",
   "execution_count": 36,
   "metadata": {},
   "outputs": [],
   "source": [
    "gene.var.index = gene.var.gene_name.values\n",
    "isoform.var.index = isoform.var.transcript_name.values"
   ]
  },
  {
   "cell_type": "markdown",
   "metadata": {},
   "source": [
    "# Begin Check"
   ]
  },
  {
   "cell_type": "code",
   "execution_count": 37,
   "metadata": {},
   "outputs": [],
   "source": [
    "# the gene_id is OK, need to fix the gene name to reflected the fact that\n",
    "# the same gene_name is used with multiple gene_ids"
   ]
  },
  {
   "cell_type": "code",
   "execution_count": 38,
   "metadata": {},
   "outputs": [
    {
     "data": {
      "text/plain": [
       "True"
      ]
     },
     "execution_count": 38,
     "metadata": {},
     "output_type": "execute_result"
    }
   ],
   "source": [
    "adata.var.gene_id.nunique() == gene.var.gene_name.nunique()"
   ]
  },
  {
   "cell_type": "code",
   "execution_count": 39,
   "metadata": {},
   "outputs": [
    {
     "data": {
      "text/plain": [
       "True"
      ]
     },
     "execution_count": 39,
     "metadata": {},
     "output_type": "execute_result"
    }
   ],
   "source": [
    "adata.var.transcript_id.nunique() == isoform.var.transcript_name.nunique()"
   ]
  },
  {
   "cell_type": "code",
   "execution_count": 40,
   "metadata": {},
   "outputs": [],
   "source": [
    "gene.X = csr_matrix(gene.X)"
   ]
  },
  {
   "cell_type": "code",
   "execution_count": 41,
   "metadata": {},
   "outputs": [],
   "source": [
    "gene.layers[\"X\"] = gene.X.copy() # here, X is rho, the number of molecules\n",
    "isoform.layers[\"X\"] = isoform.X.copy() # here X is rho, the number of molecules"
   ]
  },
  {
   "cell_type": "markdown",
   "metadata": {},
   "source": [
    "# Perform matrix operations"
   ]
  },
  {
   "cell_type": "code",
   "execution_count": 42,
   "metadata": {},
   "outputs": [],
   "source": [
    "num_TSNE = 2\n",
    "state = 42\n",
    "metric = \"euclidean\"\n",
    "n_neighbors = 30\n",
    "num_PCA = 50\n",
    "num_NCA = 10\n",
    "\n",
    "# Filtering criteria\n",
    "cell_threshold = 0.35e6\n",
    "disp_threshold = 10\n",
    "\n",
    "mito_criteria = 10\n",
    "\n",
    "n_top_genes = 5000\n",
    "\n",
    "n_bins = 20\n",
    "\n",
    "flavor=\"seurat\"\n",
    "\n",
    "scale_clip = 10"
   ]
  },
  {
   "cell_type": "markdown",
   "metadata": {},
   "source": [
    "### Adding info to rows/cols"
   ]
  },
  {
   "cell_type": "code",
   "execution_count": 43,
   "metadata": {},
   "outputs": [],
   "source": [
    "# turning subclass_label into an id\n",
    "le = LabelEncoder()\n",
    "gene.obs[\"subclass_id\"] = le.fit_transform(gene.obs.subclass_label.values)\n",
    "isoform.obs[\"subclass_id\"] = le.fit_transform(isoform.obs.subclass_label.values)"
   ]
  },
  {
   "cell_type": "code",
   "execution_count": 44,
   "metadata": {},
   "outputs": [],
   "source": [
    "# turning class_label into an id\n",
    "le = LabelEncoder()\n",
    "gene.obs[\"class_id\"] = le.fit_transform(gene.obs.class_label.values)\n",
    "isoform.obs[\"class_id\"] = le.fit_transform(isoform.obs.class_label.values)"
   ]
  },
  {
   "cell_type": "code",
   "execution_count": 45,
   "metadata": {},
   "outputs": [],
   "source": [
    "gene.var[\"gene_id\"] = gene.var[\"gene_id\"].astype(str)"
   ]
  },
  {
   "cell_type": "code",
   "execution_count": 46,
   "metadata": {},
   "outputs": [],
   "source": [
    "# Adding list and number of isoforms to each gene\n",
    "g2t = isoform.var.groupby(\"gene_id\")[\"transcript_id\"].apply(list)\n",
    "gene.var[\"txn_list\"] = gene.var[\"gene_id\"].map(g2t)\n",
    "num_iso = g2t.apply(lambda x: len(x))\n",
    "gene.var[\"num_isoforms\"] = gene.var[\"gene_id\"].map(num_iso).astype(int)"
   ]
  },
  {
   "cell_type": "code",
   "execution_count": 47,
   "metadata": {},
   "outputs": [],
   "source": [
    "# Writing cell_TPM, gene_TPM, n_genes, and percent_mito for each cell\n",
    "gene.obs[\"cell_counts\"] = gene.X.sum(1)\n",
    "gene.var[\"gene_counts\"] = np.asarray(gene.X.sum(0)).reshape(-1)\n",
    "\n",
    "isoform.obs[\"cell_counts\"] = isoform.X.sum(1)\n",
    "isoform.var[\"gene_counts\"] = np.asarray(isoform.X.sum(0)).reshape(-1)\n",
    "\n",
    "mito_genes = gene.var_names.str.startswith('mt-')\n",
    "gene.obs[\"percent_mito\"] = gene[:,mito_genes].X.sum(axis=1)/gene.X.sum(axis=1)*100\n",
    "gene.obs[\"n_genes\"] = (gene.X>0).sum(axis=1)"
   ]
  },
  {
   "cell_type": "code",
   "execution_count": 48,
   "metadata": {},
   "outputs": [],
   "source": [
    "# For each gene, compute the dispersion and store it\n",
    "mtx = gene.X.todense()\n",
    "mean = np.asarray(mtx.mean(axis=0)).reshape(-1)\n",
    "var = np.asarray(np.power(mtx, 2).mean(axis=0)).reshape(-1) - mean**2\n",
    "\n",
    "dispersion = var / mean"
   ]
  },
  {
   "cell_type": "code",
   "execution_count": 49,
   "metadata": {},
   "outputs": [],
   "source": [
    "gene.var[\"dispersion\"] = dispersion\n",
    "gene.var[\"pass_disp_filter\"] = gene.var[\"dispersion\"] > disp_threshold"
   ]
  },
  {
   "cell_type": "code",
   "execution_count": 50,
   "metadata": {},
   "outputs": [
    {
     "data": {
      "text/plain": [
       "22517"
      ]
     },
     "execution_count": 50,
     "metadata": {},
     "output_type": "execute_result"
    }
   ],
   "source": [
    "gene.var[\"pass_disp_filter\"].sum()"
   ]
  },
  {
   "cell_type": "code",
   "execution_count": 51,
   "metadata": {},
   "outputs": [],
   "source": [
    "gene.obs[\"pass_count_filter\"] = gene.obs[\"cell_counts\"] > cell_threshold"
   ]
  },
  {
   "cell_type": "code",
   "execution_count": 52,
   "metadata": {},
   "outputs": [
    {
     "data": {
      "text/plain": [
       "6176"
      ]
     },
     "execution_count": 52,
     "metadata": {},
     "output_type": "execute_result"
    }
   ],
   "source": [
    "gene.obs[\"pass_count_filter\"].sum()"
   ]
  },
  {
   "cell_type": "markdown",
   "metadata": {},
   "source": [
    "### Filtering"
   ]
  },
  {
   "cell_type": "code",
   "execution_count": 53,
   "metadata": {},
   "outputs": [
    {
     "data": {
      "text/plain": [
       "(6295, 31053)"
      ]
     },
     "execution_count": 53,
     "metadata": {},
     "output_type": "execute_result"
    }
   ],
   "source": [
    "gene.shape"
   ]
  },
  {
   "cell_type": "code",
   "execution_count": 54,
   "metadata": {},
   "outputs": [
    {
     "data": {
      "text/plain": [
       "(6295, 111079)"
      ]
     },
     "execution_count": 54,
     "metadata": {},
     "output_type": "execute_result"
    }
   ],
   "source": [
    "isoform.shape"
   ]
  },
  {
   "cell_type": "code",
   "execution_count": 55,
   "metadata": {},
   "outputs": [],
   "source": [
    "# l = gene.var.txn_list[gene.var.pass_disp_filter].values\n",
    "# flat_list = [item for sublist in l for item in sublist]"
   ]
  },
  {
   "cell_type": "code",
   "execution_count": 56,
   "metadata": {},
   "outputs": [],
   "source": [
    "# gene_disp_mask = gene.var[\"pass_disp_filter\"].values\n",
    "# gene_cell_mask = gene.obs[\"pass_count_filter\"].values\n",
    "# \n",
    "# iso_disp_mask = isoform.var[\"transcript_id\"].isin(flat_list)\n",
    "# iso_cell_mask = gene.obs[\"pass_count_filter\"].values"
   ]
  },
  {
   "cell_type": "code",
   "execution_count": 57,
   "metadata": {},
   "outputs": [],
   "source": [
    "# print(gene_cell_mask.sum(), gene_disp_mask.sum())\n",
    "# print(iso_cell_mask.sum(), iso_disp_mask.sum())"
   ]
  },
  {
   "cell_type": "code",
   "execution_count": 58,
   "metadata": {},
   "outputs": [],
   "source": [
    "# gene = gene[gene_cell_mask, gene_disp_mask]\n",
    "# isoform = isoform[iso_cell_mask, iso_disp_mask]"
   ]
  },
  {
   "cell_type": "code",
   "execution_count": 59,
   "metadata": {},
   "outputs": [
    {
     "name": "stdout",
     "output_type": "stream",
     "text": [
      "(6295, 111079)\n",
      "(6295, 31053)\n"
     ]
    }
   ],
   "source": [
    "print(isoform.shape)\n",
    "print(gene.shape)"
   ]
  },
  {
   "cell_type": "code",
   "execution_count": 60,
   "metadata": {},
   "outputs": [],
   "source": [
    "#mito_mask = (gene.obs.percent_mito < mito_criteria).values"
   ]
  },
  {
   "cell_type": "code",
   "execution_count": 61,
   "metadata": {},
   "outputs": [],
   "source": [
    "#mito_mask.sum()"
   ]
  },
  {
   "cell_type": "code",
   "execution_count": 62,
   "metadata": {},
   "outputs": [],
   "source": [
    "# gene = gene[mito_mask,:]\n",
    "# isoform = isoform[mito_mask,:]"
   ]
  },
  {
   "cell_type": "code",
   "execution_count": 63,
   "metadata": {},
   "outputs": [
    {
     "name": "stdout",
     "output_type": "stream",
     "text": [
      "(6295, 31053)\n",
      "(6295, 111079)\n"
     ]
    }
   ],
   "source": [
    "print(gene.shape)\n",
    "print(isoform.shape)"
   ]
  },
  {
   "cell_type": "markdown",
   "metadata": {},
   "source": [
    "### Adding info to matrices"
   ]
  },
  {
   "cell_type": "code",
   "execution_count": 64,
   "metadata": {},
   "outputs": [],
   "source": [
    "gene.layers[\"norm\"] = normalize(gene.X, norm='l1', axis=1)*1000000\n",
    "isoform.layers[\"norm\"] = normalize(isoform.X, norm='l1', axis=1)*1000000"
   ]
  },
  {
   "cell_type": "code",
   "execution_count": 65,
   "metadata": {},
   "outputs": [],
   "source": [
    "gene.layers[\"log1p\"] = np.log1p(gene.layers[\"norm\"])\n",
    "isoform.layers[\"log1p\"] = np.log1p(isoform.layers[\"norm\"])"
   ]
  },
  {
   "cell_type": "code",
   "execution_count": 66,
   "metadata": {},
   "outputs": [],
   "source": [
    "gene.X = gene.layers[\"log1p\"]\n",
    "isoform.X = isoform.layers[\"log1p\"]"
   ]
  },
  {
   "cell_type": "code",
   "execution_count": 67,
   "metadata": {},
   "outputs": [],
   "source": [
    "tmp = gene.copy()"
   ]
  },
  {
   "cell_type": "code",
   "execution_count": 68,
   "metadata": {},
   "outputs": [],
   "source": [
    "scanp.pp.log1p(tmp)"
   ]
  },
  {
   "cell_type": "code",
   "execution_count": 69,
   "metadata": {},
   "outputs": [],
   "source": [
    "d = tmp.uns"
   ]
  },
  {
   "cell_type": "code",
   "execution_count": 70,
   "metadata": {},
   "outputs": [],
   "source": [
    "gene.uns = d\n",
    "isoform.uns = d"
   ]
  },
  {
   "cell_type": "markdown",
   "metadata": {},
   "source": [
    "### Highly Variable Genes"
   ]
  },
  {
   "cell_type": "code",
   "execution_count": 71,
   "metadata": {},
   "outputs": [],
   "source": [
    "scanp.pp.highly_variable_genes(gene, n_top_genes=n_top_genes, flavor=flavor, n_bins=n_bins)\n",
    "hvg_mask = gene.var.highly_variable.values"
   ]
  },
  {
   "cell_type": "code",
   "execution_count": 72,
   "metadata": {},
   "outputs": [],
   "source": [
    "scanp.pp.highly_variable_genes(isoform, n_top_genes=n_top_genes, flavor=flavor, n_bins=n_bins)\n",
    "hvi_mask = isoform.var.highly_variable.values"
   ]
  },
  {
   "cell_type": "markdown",
   "metadata": {},
   "source": [
    "### Scaling data to unit variance, zero mean for clustering"
   ]
  },
  {
   "cell_type": "code",
   "execution_count": 73,
   "metadata": {},
   "outputs": [],
   "source": [
    "from sklearn.preprocessing import scale"
   ]
  },
  {
   "cell_type": "code",
   "execution_count": 74,
   "metadata": {},
   "outputs": [
    {
     "name": "stdout",
     "output_type": "stream",
     "text": [
      "CPU times: user 5.64 s, sys: 2.71 s, total: 8.35 s\n",
      "Wall time: 8.35 s\n"
     ]
    }
   ],
   "source": [
    "%%time\n",
    "mat = gene.layers[\"log1p\"].todense()\n",
    "mtx = scale(mat, axis=0, with_mean=True, with_std=True, copy=True)\n",
    "gene.X = mtx"
   ]
  },
  {
   "cell_type": "code",
   "execution_count": 75,
   "metadata": {},
   "outputs": [
    {
     "name": "stdout",
     "output_type": "stream",
     "text": [
      "CPU times: user 20.1 s, sys: 10.1 s, total: 30.2 s\n",
      "Wall time: 30.2 s\n"
     ]
    }
   ],
   "source": [
    "%%time\n",
    "mat = isoform.layers[\"log1p\"].todense()\n",
    "mtx = scale(mat, axis=0, with_mean=True, with_std=True, copy=True)\n",
    "isoform.X = mtx"
   ]
  },
  {
   "cell_type": "code",
   "execution_count": 76,
   "metadata": {},
   "outputs": [
    {
     "data": {
      "text/plain": [
       "AnnData object with n_obs × n_vars = 6295 × 31053\n",
       "    obs: 'cluster_id', 'cluster_label', 'subclass_label', 'class_label', 'cluster_color', 'size', 'cell_id', 'subclass_id', 'class_id', 'cell_counts', 'percent_mito', 'n_genes', 'pass_count_filter'\n",
       "    var: 'transcript_id', 'gene_id', 'gene_name', 'transcript_name', 'length', 'txn_list', 'num_isoforms', 'gene_counts', 'dispersion', 'pass_disp_filter', 'highly_variable', 'means', 'dispersions', 'dispersions_norm'\n",
       "    uns: 'log1p', 'hvg'\n",
       "    layers: 'X', 'norm', 'log1p'"
      ]
     },
     "execution_count": 76,
     "metadata": {},
     "output_type": "execute_result"
    }
   ],
   "source": [
    "gene"
   ]
  },
  {
   "cell_type": "code",
   "execution_count": 77,
   "metadata": {},
   "outputs": [
    {
     "name": "stderr",
     "output_type": "stream",
     "text": [
      "... storing 'gene_name' as categorical\n"
     ]
    }
   ],
   "source": [
    "gene.write_h5ad(\"../../data/notebook/revision/bad_gene.h5ad\")\n",
    "isoform.write_h5ad(\"../../data/notebook/revision/bad_isoform.h5ad\")"
   ]
  },
  {
   "cell_type": "code",
   "execution_count": null,
   "metadata": {},
   "outputs": [],
   "source": []
  }
 ],
 "metadata": {
  "kernelspec": {
   "display_name": "Python 3",
   "language": "python",
   "name": "python3"
  },
  "language_info": {
   "codemirror_mode": {
    "name": "ipython",
    "version": 3
   },
   "file_extension": ".py",
   "mimetype": "text/x-python",
   "name": "python",
   "nbconvert_exporter": "python",
   "pygments_lexer": "ipython3",
   "version": "3.7.4"
  }
 },
 "nbformat": 4,
 "nbformat_minor": 4
}

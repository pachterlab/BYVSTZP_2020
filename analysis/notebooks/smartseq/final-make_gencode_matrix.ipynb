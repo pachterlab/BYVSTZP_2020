{
 "cells": [
  {
   "cell_type": "code",
   "execution_count": 2,
   "metadata": {},
   "outputs": [
    {
     "name": "stdout",
     "output_type": "stream",
     "text": [
      "Thu Nov  5 10:57:47 PST 2020\n"
     ]
    }
   ],
   "source": [
    "!date"
   ]
  },
  {
   "cell_type": "markdown",
   "metadata": {},
   "source": [
    "# Matrix Generation Clean Up"
   ]
  },
  {
   "cell_type": "code",
   "execution_count": 3,
   "metadata": {},
   "outputs": [],
   "source": [
    "import anndata\n",
    "import pandas as pd\n",
    "import numpy as np\n",
    "import matplotlib.pyplot as plt\n",
    "import matplotlib as mpl\n",
    "import matplotlib.patches as mpatches\n",
    "import scanpy as scanp\n",
    "from scipy.stats import ks_2samp, ttest_ind\n",
    "from scipy.sparse import csr_matrix, lil_matrix\n",
    "from sklearn.preprocessing import normalize\n",
    "from sklearn.decomposition import TruncatedSVD\n",
    "from sklearn.manifold import TSNE\n",
    "from umap import UMAP\n",
    "from sklearn.cluster import KMeans\n",
    "from sklearn.metrics import adjusted_rand_score\n",
    "from sklearn.preprocessing import LabelEncoder\n",
    "from sklearn.neighbors import NeighborhoodComponentsAnalysis\n",
    "from matplotlib import cm\n",
    "\n",
    "import warnings\n",
    "warnings.filterwarnings('ignore')\n",
    "\n",
    "fsize=20\n",
    "\n",
    "plt.rcParams.update({'font.size': fsize})\n",
    "%config InlineBackend.figure_format = 'retina'"
   ]
  },
  {
   "cell_type": "code",
   "execution_count": 4,
   "metadata": {},
   "outputs": [],
   "source": [
    "txn = pd.read_csv(\"../../data/SMARTseq/out_gencode/transcripts_fixed.txt\", sep=\"\\t\", header=None)"
   ]
  },
  {
   "cell_type": "code",
   "execution_count": 5,
   "metadata": {},
   "outputs": [],
   "source": [
    "adata = \"../../data/SMARTseq/out_gencode/adata.h5ad\"\n",
    "adata = anndata.read_h5ad(adata)\n",
    "adata.var[\"transcript_id\"] = txn[0].apply(lambda x: x.split(\".\")[0]).values\n",
    "adata.var[\"transcript_name\"] = txn[4].values\n",
    "adata.var[\"gene_id\"] = txn[1].apply(lambda x: x.split(\".\")[0]).values\n",
    "adata.var[\"gene_name\"] = txn[5].values\n",
    "\n",
    "adata.var[\"length\"] = txn[6].values"
   ]
  },
  {
   "cell_type": "code",
   "execution_count": 6,
   "metadata": {},
   "outputs": [],
   "source": [
    "adata.var[\"gene_name\"] = adata.var[\"gene_name\"].astype(str) + \"_\" + adata.var.gene_id.astype(str)\n",
    "adata.var[\"transcript_name\"] = adata.var[\"transcript_name\"].astype(str) + \"_\" + adata.var.transcript_id.astype(str)"
   ]
  },
  {
   "cell_type": "code",
   "execution_count": 7,
   "metadata": {},
   "outputs": [],
   "source": [
    "def change(x):\n",
    "    if x==\"L5 ET\": return \"L5 PT\"\n",
    "    return x"
   ]
  },
  {
   "cell_type": "code",
   "execution_count": 8,
   "metadata": {},
   "outputs": [],
   "source": [
    "raw = adata.X.todense()"
   ]
  },
  {
   "cell_type": "code",
   "execution_count": 9,
   "metadata": {},
   "outputs": [],
   "source": [
    "scaled = raw/adata.var.length.values"
   ]
  },
  {
   "cell_type": "code",
   "execution_count": 10,
   "metadata": {},
   "outputs": [],
   "source": [
    "adata.layers[\"X\"] = csr_matrix(scaled)\n",
    "adata.X = csr_matrix(scaled)"
   ]
  },
  {
   "cell_type": "code",
   "execution_count": 11,
   "metadata": {},
   "outputs": [],
   "source": [
    "adata.layers[\"norm\"] = normalize(adata.X, norm='l1', axis=1)*1000000"
   ]
  },
  {
   "cell_type": "code",
   "execution_count": 12,
   "metadata": {},
   "outputs": [
    {
     "data": {
      "text/plain": [
       "1000000.0000000003"
      ]
     },
     "execution_count": 12,
     "metadata": {},
     "output_type": "execute_result"
    }
   ],
   "source": [
    "adata.layers[\"norm\"][0].sum()"
   ]
  },
  {
   "cell_type": "code",
   "execution_count": 13,
   "metadata": {},
   "outputs": [],
   "source": [
    "adata.layers[\"log1p\"] = np.log1p(adata.layers[\"norm\"])"
   ]
  },
  {
   "cell_type": "code",
   "execution_count": 14,
   "metadata": {},
   "outputs": [
    {
     "data": {
      "text/plain": [
       "1000000.0000000003"
      ]
     },
     "execution_count": 14,
     "metadata": {},
     "output_type": "execute_result"
    }
   ],
   "source": [
    "adata.layers[\"norm\"][0].sum()"
   ]
  },
  {
   "cell_type": "code",
   "execution_count": 15,
   "metadata": {},
   "outputs": [],
   "source": [
    "adata.X = adata.layers[\"norm\"]"
   ]
  },
  {
   "cell_type": "code",
   "execution_count": 16,
   "metadata": {},
   "outputs": [
    {
     "data": {
      "text/plain": [
       "1000000.0000000003"
      ]
     },
     "execution_count": 16,
     "metadata": {},
     "output_type": "execute_result"
    }
   ],
   "source": [
    "adata.layers[\"norm\"][0].sum()"
   ]
  },
  {
   "cell_type": "code",
   "execution_count": 17,
   "metadata": {},
   "outputs": [
    {
     "data": {
      "text/plain": [
       "1000000.0000000003"
      ]
     },
     "execution_count": 17,
     "metadata": {},
     "output_type": "execute_result"
    }
   ],
   "source": [
    "adata.layers[\"norm\"][0].sum()"
   ]
  },
  {
   "cell_type": "code",
   "execution_count": 18,
   "metadata": {},
   "outputs": [],
   "source": [
    "del raw\n",
    "del scaled"
   ]
  },
  {
   "cell_type": "code",
   "execution_count": 19,
   "metadata": {},
   "outputs": [
    {
     "data": {
      "text/plain": [
       "1000000.0000000003"
      ]
     },
     "execution_count": 19,
     "metadata": {},
     "output_type": "execute_result"
    }
   ],
   "source": [
    "adata.layers[\"norm\"][0].sum()"
   ]
  },
  {
   "cell_type": "code",
   "execution_count": 20,
   "metadata": {},
   "outputs": [],
   "source": [
    "def group_mtx(mtx, components, features, s2t, source_id=\"transcript_id\", target_id=\"gene_id\", by=\"features\"):\n",
    "    \"\"\"\n",
    "    mtx: ndarray components by features \n",
    "    components: labels for rows of mtx\n",
    "    features: labels for columns of mtx\n",
    "    s2t: pandas dataframe mapping source (features or components) to a\n",
    "    targets features(components) to group by\n",
    "    target_id: column name in s2t to group by\n",
    "    \"\"\"\n",
    "    if target_id not in s2t.columns: return -1\n",
    "    \n",
    "    ncomp   = components.shape[0]\n",
    "    nfeat   = features.shape[0]\n",
    "    ntarget = s2t[target_id].nunique()\n",
    "    \n",
    "    if by ==\"features\": \n",
    "        source = features\n",
    "    elif by ==\"components\": \n",
    "        source = components\n",
    "    \n",
    "    # Map the source to an index\n",
    "    source2idx = dict(zip(source, range(len(source))))\n",
    "    # Map the target to a list of source indices\n",
    "    target2idx = (s2t.groupby(target_id)[source_id].apply(lambda x: [source2idx[i] for i in x])).to_dict()\n",
    "    \n",
    "    # array of unique targets\n",
    "    unique = s2t[target_id].unique().astype(str)\n",
    "    nuniq = unique.shape[0]\n",
    "    X = np.zeros((ncomp, nuniq))\n",
    "    \n",
    "    for tidx, t in enumerate(unique):\n",
    "        # Grab the matrix indices corresponding to columns and source columns to group by\n",
    "        source_indices = target2idx[t]\n",
    "        \n",
    "        # breaks generality\n",
    "        sub_mtx = mtx[:, source_indices].sum(axis=1) # Sum on source indicies\n",
    "        X[:,tidx] = np.asarray(sub_mtx)[:,0] # place summed vector in new matrix\n",
    "        \n",
    "    # Return matrix that is grouped by\n",
    "    return (X, components, unique)\n",
    "    \n",
    "def filter_mtx(mtx, components, features, **kwargs):\n",
    "    row_counts = kwargs.get(\"row_counts\", 0) # threshold for min counts for rows\n",
    "    col_counts = kwargs.get(\"col_counts\", 0)\n",
    "    row_zeros  = kwargs.get(\"row_zeros\", 0) # threshold min number of non_zero entries in rows\n",
    "    col_zeros  = kwargs.get(\"col_zeros\", 0)\n",
    "    \n",
    "    return_mask = kwargs.get(\"return_mask\", False)\n",
    "    \n",
    "    row_sum = np.asarray(mtx.sum(axis=1)).reshape(-1) # sum along the rows\n",
    "    col_sum = np.asarray(mtx.sum(axis=0)).reshape(-1)\n",
    "    \n",
    "    mtx_zero_mask = mtx>0\n",
    "    row_nz = np.asarray(mtx_zero_mask.sum(axis=1)).reshape(-1)\n",
    "    col_nz = np.asarray(mtx_zero_mask.sum(axis=0)).reshape(-1)\n",
    "    \n",
    "    # Generate masks\n",
    "    rs_mask = row_sum > row_counts\n",
    "    cs_mask = col_sum > col_counts\n",
    "    \n",
    "    rz_mask = row_nz > row_zeros\n",
    "    cz_mask = col_nz > col_zeros\n",
    "    \n",
    "    row_mask = np.logical_and(rs_mask, rz_mask)\n",
    "    col_mask = np.logical_and(cs_mask, cz_mask)\n",
    "    \n",
    "    if return_mask:\n",
    "        return (row_mask, col_mask)\n",
    "    \n",
    "    X = mtx[row_mask,:][:,col_mask]\n",
    "    c = components[row_mask]\n",
    "    f = features[col_mask]\n",
    "    \n",
    "    return (X, c, f)"
   ]
  },
  {
   "cell_type": "code",
   "execution_count": 21,
   "metadata": {},
   "outputs": [
    {
     "name": "stdout",
     "output_type": "stream",
     "text": [
      "CPU times: user 198 µs, sys: 49 µs, total: 247 µs\n",
      "Wall time: 217 µs\n"
     ]
    }
   ],
   "source": [
    "%%time\n",
    "\n",
    "mtx = np.array([[1,1,0],\n",
    "                [0,1,0],\n",
    "                [3,0,0],\n",
    "                [0,2,0]])\n",
    "\n",
    "components = np.array([1,2,3,4])\n",
    "features = np.array([1, 2, 3])\n",
    "\n",
    "X, c, f = filter_mtx(mtx, components, features, row_zeros=1, col_zeros=3)\n",
    "rm, cmask = filter_mtx(mtx, components, features, return_mask=True)"
   ]
  },
  {
   "cell_type": "code",
   "execution_count": 22,
   "metadata": {},
   "outputs": [
    {
     "data": {
      "text/plain": [
       "array([ True,  True, False])"
      ]
     },
     "execution_count": 22,
     "metadata": {},
     "output_type": "execute_result"
    }
   ],
   "source": [
    "cmask"
   ]
  },
  {
   "cell_type": "code",
   "execution_count": 23,
   "metadata": {},
   "outputs": [
    {
     "data": {
      "text/plain": [
       "array([], shape=(1, 0), dtype=int64)"
      ]
     },
     "execution_count": 23,
     "metadata": {},
     "output_type": "execute_result"
    }
   ],
   "source": [
    "X"
   ]
  },
  {
   "cell_type": "code",
   "execution_count": 24,
   "metadata": {},
   "outputs": [
    {
     "data": {
      "text/plain": [
       "False"
      ]
     },
     "execution_count": 24,
     "metadata": {},
     "output_type": "execute_result"
    }
   ],
   "source": [
    "X==mtx"
   ]
  },
  {
   "cell_type": "markdown",
   "metadata": {},
   "source": [
    "# Group isoforms into genes, and filter. \n",
    "\n",
    "go back and filter on isoforms and apply it to genes"
   ]
  },
  {
   "cell_type": "code",
   "execution_count": 25,
   "metadata": {},
   "outputs": [],
   "source": [
    "adata = adata\n",
    "mtx        = adata.layers[\"X\"]\n",
    "components = adata.obs.cell_id.values\n",
    "features   = adata.var.transcript_id.values"
   ]
  },
  {
   "cell_type": "code",
   "execution_count": 26,
   "metadata": {},
   "outputs": [
    {
     "data": {
      "text/plain": [
       "AnnData object with n_obs × n_vars = 6580 × 142604\n",
       "    obs: 'cell_id'\n",
       "    var: 'transcript_id', 'gene_id', 'gene_name', 'transcript_name', 'length'\n",
       "    layers: 'X', 'norm', 'log1p'"
      ]
     },
     "execution_count": 26,
     "metadata": {},
     "output_type": "execute_result"
    }
   ],
   "source": [
    "adata"
   ]
  },
  {
   "cell_type": "code",
   "execution_count": 27,
   "metadata": {},
   "outputs": [
    {
     "name": "stdout",
     "output_type": "stream",
     "text": [
      "CPU times: user 36.6 s, sys: 5.51 s, total: 42.2 s\n",
      "Wall time: 42.2 s\n"
     ]
    }
   ],
   "source": [
    "%%time\n",
    "\n",
    "mtx        = adata.layers[\"X\"].todense()\n",
    "components = adata.obs.cell_id.values\n",
    "features   = adata.var.transcript_id.values\n",
    "\n",
    "source_id = \"transcript_id\"\n",
    "target_id = \"gene_id\"\n",
    "\n",
    "\n",
    "s2t = adata.var\n",
    "\n",
    "# Data for gene matrix\n",
    "X, c, f = group_mtx(mtx, components, features, s2t)"
   ]
  },
  {
   "cell_type": "code",
   "execution_count": 28,
   "metadata": {},
   "outputs": [
    {
     "data": {
      "text/plain": [
       "AnnData object with n_obs × n_vars = 6580 × 142604\n",
       "    obs: 'cell_id'\n",
       "    var: 'transcript_id', 'gene_id', 'gene_name', 'transcript_name', 'length'\n",
       "    layers: 'X', 'norm', 'log1p'"
      ]
     },
     "execution_count": 28,
     "metadata": {},
     "output_type": "execute_result"
    }
   ],
   "source": [
    "adata"
   ]
  },
  {
   "cell_type": "code",
   "execution_count": 29,
   "metadata": {},
   "outputs": [],
   "source": [
    "# generate isoform based on gene mask.\n",
    "isoform = adata[:, adata.var.gene_id.isin(f)]"
   ]
  },
  {
   "cell_type": "code",
   "execution_count": null,
   "metadata": {},
   "outputs": [],
   "source": []
  },
  {
   "cell_type": "code",
   "execution_count": 30,
   "metadata": {},
   "outputs": [],
   "source": [
    "# generate gene\n",
    "tmp = adata.var.drop_duplicates([\"gene_id\", \"gene_name\"])\n",
    "tmp = tmp[tmp.gene_id.isin(f)]\n",
    "gene = anndata.AnnData(X=X, obs=adata.obs, var=tmp)"
   ]
  },
  {
   "cell_type": "code",
   "execution_count": 31,
   "metadata": {},
   "outputs": [
    {
     "name": "stdout",
     "output_type": "stream",
     "text": [
      "View of AnnData object with n_obs × n_vars = 6580 × 142604\n",
      "    obs: 'cell_id'\n",
      "    var: 'transcript_id', 'gene_id', 'gene_name', 'transcript_name', 'length'\n",
      "    layers: 'X', 'norm', 'log1p'\n",
      "AnnData object with n_obs × n_vars = 6580 × 55401\n",
      "    obs: 'cell_id'\n",
      "    var: 'transcript_id', 'gene_id', 'gene_name', 'transcript_name', 'length'\n"
     ]
    }
   ],
   "source": [
    "print(isoform)\n",
    "print(gene)"
   ]
  },
  {
   "cell_type": "code",
   "execution_count": 32,
   "metadata": {},
   "outputs": [],
   "source": [
    "gene.var.index = gene.var.gene_name.values\n",
    "isoform.var.index = isoform.var.transcript_name.values"
   ]
  },
  {
   "cell_type": "markdown",
   "metadata": {},
   "source": [
    "# Begin Check"
   ]
  },
  {
   "cell_type": "code",
   "execution_count": 94,
   "metadata": {},
   "outputs": [],
   "source": [
    "# the gene_id is OK, need to fix the gene name to reflected the fact that\n",
    "# the same gene_name is used with multiple gene_ids"
   ]
  },
  {
   "cell_type": "code",
   "execution_count": 33,
   "metadata": {},
   "outputs": [
    {
     "data": {
      "text/plain": [
       "True"
      ]
     },
     "execution_count": 33,
     "metadata": {},
     "output_type": "execute_result"
    }
   ],
   "source": [
    "adata.var.gene_id.nunique() == gene.var.gene_name.nunique()"
   ]
  },
  {
   "cell_type": "code",
   "execution_count": 34,
   "metadata": {},
   "outputs": [
    {
     "data": {
      "text/plain": [
       "True"
      ]
     },
     "execution_count": 34,
     "metadata": {},
     "output_type": "execute_result"
    }
   ],
   "source": [
    "adata.var.transcript_id.nunique() == isoform.var.transcript_name.nunique()"
   ]
  },
  {
   "cell_type": "code",
   "execution_count": 35,
   "metadata": {},
   "outputs": [],
   "source": [
    "gene.X = csr_matrix(gene.X)"
   ]
  },
  {
   "cell_type": "code",
   "execution_count": 36,
   "metadata": {},
   "outputs": [],
   "source": [
    "gene.layers[\"X\"] = gene.X.copy() # here, X is rho, the number of molecules\n",
    "isoform.layers[\"X\"] = isoform.X.copy() # here X is rho, the number of molecules"
   ]
  },
  {
   "cell_type": "markdown",
   "metadata": {},
   "source": [
    "# Save matrix"
   ]
  },
  {
   "cell_type": "code",
   "execution_count": 37,
   "metadata": {},
   "outputs": [
    {
     "name": "stderr",
     "output_type": "stream",
     "text": [
      "... storing 'gene_id' as categorical\n",
      "... storing 'gene_name' as categorical\n"
     ]
    }
   ],
   "source": [
    "gene.write_h5ad(\"../../data/notebook/revision/gencode_gene.h5ad\")\n",
    "isoform.write_h5ad(\"../../data/notebook/revision/gencode_isoform.h5ad\")"
   ]
  },
  {
   "cell_type": "code",
   "execution_count": null,
   "metadata": {},
   "outputs": [],
   "source": []
  }
 ],
 "metadata": {
  "kernelspec": {
   "display_name": "Python 3",
   "language": "python",
   "name": "python3"
  },
  "language_info": {
   "codemirror_mode": {
    "name": "ipython",
    "version": 3
   },
   "file_extension": ".py",
   "mimetype": "text/x-python",
   "name": "python",
   "nbconvert_exporter": "python",
   "pygments_lexer": "ipython3",
   "version": "3.7.4"
  }
 },
 "nbformat": 4,
 "nbformat_minor": 4
}

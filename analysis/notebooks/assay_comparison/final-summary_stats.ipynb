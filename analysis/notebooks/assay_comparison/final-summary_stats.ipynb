{
 "cells": [
  {
   "cell_type": "code",
   "execution_count": 1,
   "metadata": {},
   "outputs": [
    {
     "name": "stdout",
     "output_type": "stream",
     "text": [
      "Fri Oct 23 07:23:08 PDT 2020\n"
     ]
    }
   ],
   "source": [
    "!date"
   ]
  },
  {
   "cell_type": "markdown",
   "metadata": {},
   "source": [
    "# Summary stats"
   ]
  },
  {
   "cell_type": "code",
   "execution_count": 1,
   "metadata": {},
   "outputs": [],
   "source": [
    "import anndata\n",
    "import pandas as pd\n",
    "import numpy as np\n",
    "import matplotlib.pyplot as plt\n",
    "import matplotlib as mpl\n",
    "import matplotlib.patches as mpatches\n",
    "import scanpy as sc\n",
    "from scipy.stats import ks_2samp, ttest_ind\n",
    "import ast\n",
    "from scipy.sparse import csr_matrix\n",
    "import warnings\n",
    "warnings.filterwarnings('ignore')\n",
    "\n",
    "def nd(arr):\n",
    "    return np.asarray(arr).reshape(-1)\n",
    "\n",
    "fsize=20\n",
    "\n",
    "plt.rcParams.update({'font.size': fsize})\n",
    "%config InlineBackend.figure_format = 'retina'"
   ]
  },
  {
   "cell_type": "code",
   "execution_count": 2,
   "metadata": {},
   "outputs": [],
   "source": [
    "ss    = anndata.read_h5ad(\"../../data/notebook/revision/no_filter_gene.h5ad\")\n",
    "tenx  = anndata.read_h5ad(\"../../data/notebook/revision/10xv3_gene.h5ad\")\n",
    "mfish = anndata.read_h5ad(\"../../data/notebook/revision/merfish-updated.h5ad\")"
   ]
  },
  {
   "cell_type": "markdown",
   "metadata": {},
   "source": [
    "# Avg # genes detected per cell"
   ]
  },
  {
   "cell_type": "code",
   "execution_count": 16,
   "metadata": {},
   "outputs": [
    {
     "name": "stdout",
     "output_type": "stream",
     "text": [
      "SMART-Seq 10,333\n"
     ]
    }
   ],
   "source": [
    "print(\"SMART-Seq {:,.0f}\".format((ss.layers[\"norm\"]>0).sum(axis=1).mean()))"
   ]
  },
  {
   "cell_type": "code",
   "execution_count": 15,
   "metadata": {},
   "outputs": [
    {
     "name": "stdout",
     "output_type": "stream",
     "text": [
      "10xv3   5,891\n",
      "MERFISH 72\n"
     ]
    }
   ],
   "source": [
    "print(f\"10xv3   {(tenx.X>0).sum(axis=1).mean():,.0f}\")\n",
    "print(f\"MERFISH {(mfish.X>0).sum(axis=1).mean():,.0f}\")"
   ]
  },
  {
   "cell_type": "markdown",
   "metadata": {},
   "source": [
    "# Number of cells"
   ]
  },
  {
   "cell_type": "code",
   "execution_count": 3,
   "metadata": {},
   "outputs": [
    {
     "name": "stdout",
     "output_type": "stream",
     "text": [
      "SMART-Seq 6,295\n",
      "10xv3 94,162\n",
      "MERFISH 280,327\n"
     ]
    }
   ],
   "source": [
    "print(\"SMART-Seq {:,}\".format(ss.shape[0]))\n",
    "print(\"10xv3 {:,}\".format(tenx.shape[0]))\n",
    "print(\"MERFISH {:,}\".format(mfish.shape[0]))"
   ]
  },
  {
   "cell_type": "markdown",
   "metadata": {},
   "source": [
    "# Number of Genes"
   ]
  },
  {
   "cell_type": "code",
   "execution_count": 4,
   "metadata": {},
   "outputs": [
    {
     "name": "stdout",
     "output_type": "stream",
     "text": [
      "SMART-Seq 31,053\n",
      "10xv3 31,053\n",
      "MERFISH 254\n"
     ]
    }
   ],
   "source": [
    "print(\"SMART-Seq {:,}\".format(ss.shape[1]))\n",
    "print(\"10xv3 {:,}\".format(tenx.shape[1]))\n",
    "print(\"MERFISH {:,}\".format(mfish.shape[1]))"
   ]
  },
  {
   "cell_type": "markdown",
   "metadata": {},
   "source": [
    "# Number of detected genes per cell (average)"
   ]
  },
  {
   "cell_type": "code",
   "execution_count": 5,
   "metadata": {},
   "outputs": [
    {
     "name": "stdout",
     "output_type": "stream",
     "text": [
      "SMART-Seq 10,333\n",
      "10xv3 5,891\n",
      "MERFISH 76\n"
     ]
    }
   ],
   "source": [
    "print(\"SMART-Seq {:,.0f}\".format((ss.layers[\"X\"]>0).sum(axis=1).mean()))\n",
    "print(\"10xv3 {:,.0f}\".format((tenx.X>0).sum(axis=1).mean()))\n",
    "print(\"MERFISH {:,.0f}\".format((mfish.layers[\"X\"]>0).sum(axis=1).mean()))"
   ]
  },
  {
   "cell_type": "markdown",
   "metadata": {},
   "source": [
    "# Number of clusters"
   ]
  },
  {
   "cell_type": "code",
   "execution_count": 6,
   "metadata": {},
   "outputs": [
    {
     "name": "stdout",
     "output_type": "stream",
     "text": [
      "SMART-Seq 62\n",
      "10xv3 147\n",
      "MERFISH 99\n"
     ]
    }
   ],
   "source": [
    "# cluster\n",
    "print(\"SMART-Seq {:,}\".format(ss.obs.cluster_label.nunique()))\n",
    "print(\"10xv3 {:,}\".format(tenx.obs.cluster_label.nunique()))\n",
    "print(\"MERFISH {:,}\".format(mfish.obs.label.nunique()))"
   ]
  },
  {
   "cell_type": "code",
   "execution_count": 15,
   "metadata": {},
   "outputs": [
    {
     "name": "stdout",
     "output_type": "stream",
     "text": [
      "SMART-Seq 18\n",
      "10xv3 22\n",
      "MERFISH 25\n"
     ]
    }
   ],
   "source": [
    "# subclass\n",
    "print(\"SMART-Seq {:,}\".format(ss.obs.subclass_label.nunique()))\n",
    "print(\"10xv3 {:,}\".format(tenx.obs.subclass_label.nunique()))\n",
    "print(\"MERFISH {:,}\".format(mfish.obs.subclass.nunique()))"
   ]
  },
  {
   "cell_type": "code",
   "execution_count": 18,
   "metadata": {},
   "outputs": [
    {
     "name": "stdout",
     "output_type": "stream",
     "text": [
      "SMART-Seq 4\n",
      "10xv3 4\n",
      "MERFISH 3\n"
     ]
    }
   ],
   "source": [
    "# class\n",
    "print(\"SMART-Seq {:,}\".format(ss.obs.class_label.nunique()))\n",
    "print(\"10xv3 {:,}\".format(tenx.obs.class_label.nunique()))\n",
    "print(\"MERFISH {:,}\".format(mfish.obs.class_label.nunique()))"
   ]
  },
  {
   "cell_type": "markdown",
   "metadata": {},
   "source": [
    "# Reads Processed"
   ]
  },
  {
   "cell_type": "code",
   "execution_count": 7,
   "metadata": {},
   "outputs": [
    {
     "data": {
      "text/plain": [
       "'SMART-Seq 15,229,289,828 reads'"
      ]
     },
     "execution_count": 7,
     "metadata": {},
     "output_type": "execute_result"
    }
   ],
   "source": [
    "\"SMART-Seq {:,} reads\".format(15229289828)"
   ]
  },
  {
   "cell_type": "code",
   "execution_count": 8,
   "metadata": {},
   "outputs": [],
   "source": [
    "tenx_reads = [1048408446,\n",
    "            1466307916,\n",
    "            2941873323,\n",
    "            1152751524,\n",
    "            1708764205,\n",
    "            1926459540,\n",
    "            1600417861,\n",
    "            1897698358,\n",
    "            1919010597,\n",
    "            2247342604,\n",
    "            2465213703,\n",
    "            2321988388]"
   ]
  },
  {
   "cell_type": "code",
   "execution_count": 9,
   "metadata": {},
   "outputs": [
    {
     "data": {
      "text/plain": [
       "'10x: 22,696,236,465 reads'"
      ]
     },
     "execution_count": 9,
     "metadata": {},
     "output_type": "execute_result"
    }
   ],
   "source": [
    "\"10x: {:,} reads\".format(np.sum(tenx_reads))"
   ]
  },
  {
   "cell_type": "markdown",
   "metadata": {},
   "source": [
    "# Reads per cell"
   ]
  },
  {
   "cell_type": "code",
   "execution_count": 10,
   "metadata": {},
   "outputs": [
    {
     "data": {
      "text/plain": [
       "'SMART-Seq 2,419,268 reads per cell'"
      ]
     },
     "execution_count": 10,
     "metadata": {},
     "output_type": "execute_result"
    }
   ],
   "source": [
    "\"SMART-Seq {:,.0f} reads per cell\".format(15229289828/ss.shape[0])"
   ]
  },
  {
   "cell_type": "code",
   "execution_count": 11,
   "metadata": {},
   "outputs": [
    {
     "data": {
      "text/plain": [
       "'10x 241,034 reads per cell'"
      ]
     },
     "execution_count": 11,
     "metadata": {},
     "output_type": "execute_result"
    }
   ],
   "source": [
    "\"10x {:,.0f} reads per cell\".format(np.sum(tenx_reads)/tenx.shape[0])"
   ]
  },
  {
   "cell_type": "code",
   "execution_count": 12,
   "metadata": {},
   "outputs": [
    {
     "data": {
      "text/plain": [
       "'SMART-Seq was sequenced 10x deeper per cell than 10xv3.'"
      ]
     },
     "execution_count": 12,
     "metadata": {},
     "output_type": "execute_result"
    }
   ],
   "source": [
    "\"SMART-Seq was sequenced {:,.0f}x deeper per cell than 10xv3.\".format(15229289828/ss.shape[0]/(np.sum(tenx_reads)/tenx.shape[0]))"
   ]
  },
  {
   "cell_type": "markdown",
   "metadata": {},
   "source": [
    "# Isoform"
   ]
  },
  {
   "cell_type": "code",
   "execution_count": 13,
   "metadata": {},
   "outputs": [],
   "source": [
    "ss_iso = anndata.read_h5ad(\"../../data/notebook/revision/no_filter_isoform.h5ad\")"
   ]
  },
  {
   "cell_type": "code",
   "execution_count": 14,
   "metadata": {},
   "outputs": [
    {
     "name": "stdout",
     "output_type": "stream",
     "text": [
      "SMART-Seq 20,319\n"
     ]
    }
   ],
   "source": [
    "print(\"SMART-Seq {:,.0f}\".format((ss_iso.layers[\"X\"]>0).sum(axis=1).mean()))"
   ]
  },
  {
   "cell_type": "code",
   "execution_count": 33,
   "metadata": {},
   "outputs": [
    {
     "data": {
      "text/plain": [
       "subclass\n",
       "Astrocytes           3\n",
       "Endothelial          1\n",
       "L5_IT                4\n",
       "L5_PT                5\n",
       "L6_CT                9\n",
       "L6_IT                3\n",
       "L6_IT_Car3           1\n",
       "L6b                  3\n",
       "L23_IT               5\n",
       "L45_IT               7\n",
       "L56_NP               2\n",
       "Lamp5                8\n",
       "Microglia            1\n",
       "OPC                  1\n",
       "Oligodendrocytes     3\n",
       "PVM                  2\n",
       "Pericytes            1\n",
       "Pvalb               12\n",
       "SMC                  1\n",
       "Sncg                 2\n",
       "Sst                  8\n",
       "Sst_Chodl            1\n",
       "VLMC                 1\n",
       "Vip                 11\n",
       "other                4\n",
       "Name: label, dtype: int64"
      ]
     },
     "execution_count": 33,
     "metadata": {},
     "output_type": "execute_result"
    }
   ],
   "source": [
    "mfish.obs.groupby(\"subclass\")['label'].nunique()"
   ]
  },
  {
   "cell_type": "code",
   "execution_count": null,
   "metadata": {},
   "outputs": [],
   "source": []
  }
 ],
 "metadata": {
  "kernelspec": {
   "display_name": "Python 3",
   "language": "python",
   "name": "python3"
  },
  "language_info": {
   "codemirror_mode": {
    "name": "ipython",
    "version": 3
   },
   "file_extension": ".py",
   "mimetype": "text/x-python",
   "name": "python",
   "nbconvert_exporter": "python",
   "pygments_lexer": "ipython3",
   "version": "3.7.4"
  }
 },
 "nbformat": 4,
 "nbformat_minor": 4
}

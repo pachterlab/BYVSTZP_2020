{
 "cells": [
  {
   "cell_type": "code",
   "execution_count": 1,
   "metadata": {},
   "outputs": [
    {
     "name": "stdout",
     "output_type": "stream",
     "text": [
      "Fri Oct 23 08:49:38 PDT 2020\n"
     ]
    }
   ],
   "source": [
    "!date"
   ]
  },
  {
   "cell_type": "markdown",
   "metadata": {},
   "source": [
    "# 10x correlation on isoforms"
   ]
  },
  {
   "cell_type": "code",
   "execution_count": 2,
   "metadata": {},
   "outputs": [],
   "source": [
    "import anndata\n",
    "import glob\n",
    "import pandas as pd\n",
    "import numpy as np\n",
    "import matplotlib.pyplot as plt\n",
    "import matplotlib as mpl\n",
    "import matplotlib.patches as mpatches\n",
    "import scanpy as scanp\n",
    "from scipy.stats import ks_2samp, ttest_ind\n",
    "from scipy import stats\n",
    "from scipy.sparse import csr_matrix\n",
    "from sklearn.decomposition import TruncatedSVD\n",
    "from sklearn.preprocessing import normalize\n",
    "from sklearn.manifold import TSNE\n",
    "from umap import UMAP\n",
    "from sklearn.cluster import KMeans\n",
    "from sklearn.metrics import adjusted_rand_score\n",
    "from sklearn.preprocessing import LabelEncoder\n",
    "from sklearn.neighbors import NeighborhoodComponentsAnalysis\n",
    "from matplotlib import cm\n",
    "import ast\n",
    "import warnings\n",
    "warnings.filterwarnings('ignore')\n",
    "\n",
    "import sys\n",
    "sys.path.append('/home/sina/projects/mop/BYVSTZP_2020/trackfig')\n",
    "from trackfig.utils import get_notebook_name\n",
    "from trackfig.trackfig import trackfig \n",
    "\n",
    "TRACKFIG = \"/home/sina/projects/mop/BYVSTZP_2020/trackfig.txt\"\n",
    "NB = get_notebook_name()\n",
    "\n",
    "def nd(arr):\n",
    "    return np.asarray(arr).reshape(-1)\n",
    "\n",
    "fsize=20\n",
    "\n",
    "plt.rcParams.update({'font.size': fsize})\n",
    "%config InlineBackend.figure_format = 'retina'"
   ]
  },
  {
   "cell_type": "code",
   "execution_count": 3,
   "metadata": {},
   "outputs": [],
   "source": [
    "path = \"../../data/10xv3\"\n",
    "file_paths = glob.glob(path + \"/tcc_gene_out*/counts_filtered/adata.h5ad\")"
   ]
  },
  {
   "cell_type": "code",
   "execution_count": 4,
   "metadata": {},
   "outputs": [],
   "source": [
    "file_paths = np.sort(file_paths).tolist()"
   ]
  },
  {
   "cell_type": "code",
   "execution_count": 5,
   "metadata": {},
   "outputs": [
    {
     "data": {
      "text/plain": [
       "['../../data/10xv3/tcc_gene_out_L8TX_181211_01_A01_S01_L003/counts_filtered/adata.h5ad',\n",
       " '../../data/10xv3/tcc_gene_out_L8TX_181211_01_B01_S01_L003/counts_filtered/adata.h5ad',\n",
       " '../../data/10xv3/tcc_gene_out_L8TX_181211_01_C01_S01_L003/counts_filtered/adata.h5ad',\n",
       " '../../data/10xv3/tcc_gene_out_L8TX_181211_01_D01_S01_L003/counts_filtered/adata.h5ad',\n",
       " '../../data/10xv3/tcc_gene_out_L8TX_181211_01_E01_S01_L003/counts_filtered/adata.h5ad',\n",
       " '../../data/10xv3/tcc_gene_out_L8TX_181211_01_F01_S01_L003/counts_filtered/adata.h5ad',\n",
       " '../../data/10xv3/tcc_gene_out_L8TX_181211_01_G12_S01_L003/counts_filtered/adata.h5ad',\n",
       " '../../data/10xv3/tcc_gene_out_L8TX_181211_01_H12_S01_L003/counts_filtered/adata.h5ad',\n",
       " '../../data/10xv3/tcc_gene_out_L8TX_190430_01_A08_S01_L003/counts_filtered/adata.h5ad',\n",
       " '../../data/10xv3/tcc_gene_out_L8TX_190430_01_B08_S01_L003/counts_filtered/adata.h5ad',\n",
       " '../../data/10xv3/tcc_gene_out_L8TX_190430_01_F08_S01_L003/counts_filtered/adata.h5ad',\n",
       " '../../data/10xv3/tcc_gene_out_L8TX_190430_01_G08_S01_L003/counts_filtered/adata.h5ad']"
      ]
     },
     "execution_count": 5,
     "metadata": {},
     "output_type": "execute_result"
    }
   ],
   "source": [
    "file_paths"
   ]
  },
  {
   "cell_type": "code",
   "execution_count": 6,
   "metadata": {},
   "outputs": [],
   "source": [
    "batch_id = [\n",
    "\"3L8TX_181211_01_A01\",\n",
    "\"4L8TX_181211_01_B01\",\n",
    "\"5L8TX_181211_01_C01\",\n",
    "\"6L8TX_181211_01_D01\",\n",
    "\"7L8TX_181211_01_E01\",\n",
    "\"8L8TX_181211_01_F01\",\n",
    "\"1L8TX_181211_01_G12\",\n",
    "\"2L8TX_181211_01_H12\",\n",
    "\"9L8TX_190430_01_A08\",    \n",
    "\"10L8TX_190430_01_B08\",\n",
    "\"11L8TX_190430_01_F08\",    \n",
    "\"12L8TX_190430_01_G08\"]"
   ]
  },
  {
   "cell_type": "code",
   "execution_count": 7,
   "metadata": {},
   "outputs": [
    {
     "name": "stdout",
     "output_type": "stream",
     "text": [
      "1 of 12\n"
     ]
    },
    {
     "name": "stderr",
     "output_type": "stream",
     "text": [
      "Trying to set attribute `.var` of view, copying.\n"
     ]
    },
    {
     "name": "stdout",
     "output_type": "stream",
     "text": [
      "2 of 12\n"
     ]
    },
    {
     "name": "stderr",
     "output_type": "stream",
     "text": [
      "Trying to set attribute `.var` of view, copying.\n"
     ]
    },
    {
     "name": "stdout",
     "output_type": "stream",
     "text": [
      "3 of 12\n"
     ]
    },
    {
     "name": "stderr",
     "output_type": "stream",
     "text": [
      "Trying to set attribute `.var` of view, copying.\n"
     ]
    },
    {
     "name": "stdout",
     "output_type": "stream",
     "text": [
      "4 of 12\n"
     ]
    },
    {
     "name": "stderr",
     "output_type": "stream",
     "text": [
      "Trying to set attribute `.var` of view, copying.\n"
     ]
    },
    {
     "name": "stdout",
     "output_type": "stream",
     "text": [
      "5 of 12\n"
     ]
    },
    {
     "name": "stderr",
     "output_type": "stream",
     "text": [
      "Trying to set attribute `.var` of view, copying.\n"
     ]
    },
    {
     "name": "stdout",
     "output_type": "stream",
     "text": [
      "6 of 12\n"
     ]
    },
    {
     "name": "stderr",
     "output_type": "stream",
     "text": [
      "Trying to set attribute `.var` of view, copying.\n"
     ]
    },
    {
     "name": "stdout",
     "output_type": "stream",
     "text": [
      "7 of 12\n"
     ]
    },
    {
     "name": "stderr",
     "output_type": "stream",
     "text": [
      "Trying to set attribute `.var` of view, copying.\n"
     ]
    },
    {
     "name": "stdout",
     "output_type": "stream",
     "text": [
      "8 of 12\n"
     ]
    },
    {
     "name": "stderr",
     "output_type": "stream",
     "text": [
      "Trying to set attribute `.var` of view, copying.\n"
     ]
    },
    {
     "name": "stdout",
     "output_type": "stream",
     "text": [
      "9 of 12\n"
     ]
    },
    {
     "name": "stderr",
     "output_type": "stream",
     "text": [
      "Trying to set attribute `.var` of view, copying.\n"
     ]
    },
    {
     "name": "stdout",
     "output_type": "stream",
     "text": [
      "10 of 12\n"
     ]
    },
    {
     "name": "stderr",
     "output_type": "stream",
     "text": [
      "Trying to set attribute `.var` of view, copying.\n"
     ]
    },
    {
     "name": "stdout",
     "output_type": "stream",
     "text": [
      "11 of 12\n"
     ]
    },
    {
     "name": "stderr",
     "output_type": "stream",
     "text": [
      "Trying to set attribute `.var` of view, copying.\n"
     ]
    },
    {
     "name": "stdout",
     "output_type": "stream",
     "text": [
      "12 of 12\n"
     ]
    },
    {
     "name": "stderr",
     "output_type": "stream",
     "text": [
      "Trying to set attribute `.var` of view, copying.\n"
     ]
    },
    {
     "name": "stdout",
     "output_type": "stream",
     "text": [
      "CPU times: user 22min 19s, sys: 1min 1s, total: 23min 21s\n",
      "Wall time: 23min 57s\n"
     ]
    }
   ],
   "source": [
    "%%time\n",
    "files = []\n",
    "for fidx, f in enumerate(file_paths):\n",
    "    print(\"{} of {}\".format(fidx+1, len(file_paths)))\n",
    "    \n",
    "    adata = anndata.read_h5ad(f)\n",
    "    \n",
    "    adata.var[\"transcript_ids\"] = adata.var[\"transcript_ids\"].apply(lambda x: ast.literal_eval(x))\n",
    "    adata.var[\"ec_len\"] = adata.var[\"transcript_ids\"].apply(lambda x: len(x))\n",
    "    \n",
    "    adata = adata[:,adata.var.ec_len==1]\n",
    "    adata.var[\"transcript_id\"] = adata.var.transcript_ids.apply(lambda x: x[0])\n",
    "    adata.var[\"transcript_id_nov\"] = adata.var[\"transcript_id\"].str.slice(0,18)\n",
    "    \n",
    "    \n",
    "    files.append(adata)"
   ]
  },
  {
   "cell_type": "code",
   "execution_count": 8,
   "metadata": {},
   "outputs": [
    {
     "name": "stdout",
     "output_type": "stream",
     "text": [
      "CPU times: user 3.84 s, sys: 1.08 s, total: 4.92 s\n",
      "Wall time: 4.97 s\n"
     ]
    }
   ],
   "source": [
    "%%time\n",
    "adata = files[0].concatenate(*files[1:], batch_categories=batch_id)"
   ]
  },
  {
   "cell_type": "code",
   "execution_count": 9,
   "metadata": {},
   "outputs": [
    {
     "data": {
      "text/plain": [
       "AnnData object with n_obs × n_vars = 169200 × 111079\n",
       "    obs: 'batch'\n",
       "    var: 'transcript_ids', 'ec_len', 'transcript_id', 'transcript_id_nov'"
      ]
     },
     "execution_count": 9,
     "metadata": {},
     "output_type": "execute_result"
    }
   ],
   "source": [
    "adata"
   ]
  },
  {
   "cell_type": "code",
   "execution_count": 12,
   "metadata": {},
   "outputs": [],
   "source": [
    "adata.write(\"../../data/notebook/revision/10xv3_unique_isoforms.h5ad\")"
   ]
  },
  {
   "cell_type": "code",
   "execution_count": null,
   "metadata": {},
   "outputs": [],
   "source": [
    "#adata = anndata.read_h5ad(\"../../data/notebook/revision/10xv3_unique_isoforms.h5ad\")"
   ]
  },
  {
   "cell_type": "code",
   "execution_count": null,
   "metadata": {},
   "outputs": [],
   "source": []
  },
  {
   "cell_type": "code",
   "execution_count": null,
   "metadata": {},
   "outputs": [],
   "source": []
  },
  {
   "cell_type": "code",
   "execution_count": null,
   "metadata": {},
   "outputs": [],
   "source": []
  },
  {
   "cell_type": "code",
   "execution_count": null,
   "metadata": {},
   "outputs": [],
   "source": [
    "cols = [\"transcript_id\", \"gene_id\", \"gene_name\", \"transcript_name\", \"chromosome\", \"start\", \"stop\", \"strand\"]\n",
    "t2g = pd.read_csv(\"../../reference/t2g.txt\", sep=\"\\t\", header=None, names=cols)\n",
    "t2g[\"transcript_id\"] = t2g[\"transcript_id\"].str.slice(0,18)\n",
    "t2g[\"gene_id\"] = t2g[\"gene_id\"].str.slice(0,18)\n",
    "t2g[\"gene_id\"] = t2g[\"gene_name\"] + \"_\" + t2g[\"gene_id\"]"
   ]
  },
  {
   "cell_type": "code",
   "execution_count": null,
   "metadata": {},
   "outputs": [],
   "source": [
    "t2g.index = t2g.transcript_id.values\n",
    "t2g[\"transcript_name_short\"] = t2g[\"transcript_name\"]\n",
    "t2g[\"transcript_name\"] = t2g[\"transcript_name_short\"] + \"_\" + t2g[\"transcript_id\"]"
   ]
  },
  {
   "cell_type": "markdown",
   "metadata": {},
   "source": [
    "# Map OBS"
   ]
  },
  {
   "cell_type": "code",
   "execution_count": null,
   "metadata": {},
   "outputs": [],
   "source": [
    "ca = pd.read_csv(\"../../reference/10xv3_cluster_labels/cluster.annotation.csv\", index_col=0)\n",
    "cm = pd.read_csv(\"../../reference/10xv3_cluster_labels/cluster.membership.csv\", index_col=0)"
   ]
  },
  {
   "cell_type": "code",
   "execution_count": null,
   "metadata": {},
   "outputs": [],
   "source": [
    "adata.obs.head()"
   ]
  },
  {
   "cell_type": "code",
   "execution_count": null,
   "metadata": {},
   "outputs": [],
   "source": [
    "adata = adata[adata.obs.index.isin(cm.index)]"
   ]
  },
  {
   "cell_type": "code",
   "execution_count": null,
   "metadata": {},
   "outputs": [],
   "source": [
    "adata"
   ]
  },
  {
   "cell_type": "code",
   "execution_count": null,
   "metadata": {},
   "outputs": [],
   "source": [
    "adata.obs[\"cluster_id\"] = adata.obs.index.map(cm[\"x\"])"
   ]
  },
  {
   "cell_type": "code",
   "execution_count": null,
   "metadata": {},
   "outputs": [],
   "source": [
    "adata.obs[\"cluster_label\"]  = adata.obs[\"cluster_id\"].map(ca[\"cluster_label\"])\n",
    "adata.obs[\"subclass_label\"] = adata.obs[\"cluster_id\"].map(ca[\"subclass_label\"])\n",
    "adata.obs[\"class_label\"]    = adata.obs[\"cluster_id\"].map(ca[\"class_label\"])"
   ]
  },
  {
   "cell_type": "code",
   "execution_count": null,
   "metadata": {},
   "outputs": [],
   "source": [
    "from sklearn.preprocessing import LabelEncoder"
   ]
  },
  {
   "cell_type": "code",
   "execution_count": null,
   "metadata": {},
   "outputs": [],
   "source": [
    "le = LabelEncoder()\n",
    "adata.obs[\"cluster_id\"] = le.fit_transform(adata.obs.cluster_label.values)\n",
    "\n",
    "le = LabelEncoder()\n",
    "adata.obs[\"subclass_id\"] = le.fit_transform(adata.obs.subclass_label.values)\n",
    "\n",
    "le = LabelEncoder()\n",
    "adata.obs[\"class_id\"] = le.fit_transform(adata.obs.class_label.values)"
   ]
  },
  {
   "cell_type": "code",
   "execution_count": null,
   "metadata": {},
   "outputs": [],
   "source": [
    "adata.obs.head()"
   ]
  },
  {
   "cell_type": "markdown",
   "metadata": {},
   "source": [
    "# Map Var"
   ]
  },
  {
   "cell_type": "code",
   "execution_count": null,
   "metadata": {},
   "outputs": [],
   "source": [
    "t2g.head()"
   ]
  },
  {
   "cell_type": "code",
   "execution_count": null,
   "metadata": {},
   "outputs": [],
   "source": [
    "adata.var.head()"
   ]
  },
  {
   "cell_type": "code",
   "execution_count": null,
   "metadata": {},
   "outputs": [],
   "source": [
    "adata.var[\"transcript_name\"] = adata.var[\"transcript_id_nov\"].map(t2g[\"transcript_name\"])\n",
    "adata.var.index = adata.var[\"transcript_name\"].values"
   ]
  },
  {
   "cell_type": "code",
   "execution_count": null,
   "metadata": {},
   "outputs": [],
   "source": [
    "adata.var.head()"
   ]
  },
  {
   "cell_type": "code",
   "execution_count": null,
   "metadata": {},
   "outputs": [],
   "source": [
    "#adata.write(\"../cell_ranger_annotation/10xv3_isoform.h5ad\")"
   ]
  },
  {
   "cell_type": "markdown",
   "metadata": {},
   "source": [
    "# Compare to smartseq"
   ]
  },
  {
   "cell_type": "code",
   "execution_count": 4,
   "metadata": {},
   "outputs": [],
   "source": [
    "adata = anndata.read_h5ad(\"../../data/notebook/10xv3_isoform.h5ad\")"
   ]
  },
  {
   "cell_type": "code",
   "execution_count": 5,
   "metadata": {},
   "outputs": [],
   "source": [
    "def change(x):\n",
    "    if x==\"L5 ET\": return \"L5 PT\"\n",
    "    return x"
   ]
  },
  {
   "cell_type": "code",
   "execution_count": 6,
   "metadata": {},
   "outputs": [
    {
     "data": {
      "text/plain": [
       "L5 IT          29721\n",
       "Low Quality    22728\n",
       "L6 CT          12807\n",
       "L2/3 IT        10915\n",
       "L6 IT           4445\n",
       "L5/6 NP         3147\n",
       "Vip             2966\n",
       "Lamp5           2357\n",
       "Sst             1869\n",
       "L6b              554\n",
       "Oligo            535\n",
       "Astro            395\n",
       "Pvalb            368\n",
       "Sncg             348\n",
       "doublet          257\n",
       "Endo             187\n",
       "L5 ET            161\n",
       "OPC              145\n",
       "Macrophage       122\n",
       "L6 IT Car3        69\n",
       "VLMC              55\n",
       "SMC               11\n",
       "Name: subclass_label, dtype: int64"
      ]
     },
     "execution_count": 6,
     "metadata": {},
     "output_type": "execute_result"
    }
   ],
   "source": [
    "adata.obs.subclass_label.value_counts()"
   ]
  },
  {
   "cell_type": "code",
   "execution_count": 7,
   "metadata": {},
   "outputs": [],
   "source": [
    "adata.obs.cluster_label = adata.obs.cluster_label.apply(change).values\n",
    "adata.obs.subclass_label = adata.obs.subclass_label.apply(change).values"
   ]
  },
  {
   "cell_type": "code",
   "execution_count": 8,
   "metadata": {},
   "outputs": [
    {
     "data": {
      "text/plain": [
       "L5 IT          29721\n",
       "Low Quality    22728\n",
       "L6 CT          12807\n",
       "L2/3 IT        10915\n",
       "L6 IT           4445\n",
       "L5/6 NP         3147\n",
       "Vip             2966\n",
       "Lamp5           2357\n",
       "Sst             1869\n",
       "L6b              554\n",
       "Oligo            535\n",
       "Astro            395\n",
       "Pvalb            368\n",
       "Sncg             348\n",
       "doublet          257\n",
       "Endo             187\n",
       "L5 PT            161\n",
       "OPC              145\n",
       "Macrophage       122\n",
       "L6 IT Car3        69\n",
       "VLMC              55\n",
       "SMC               11\n",
       "Name: subclass_label, dtype: int64"
      ]
     },
     "execution_count": 8,
     "metadata": {},
     "output_type": "execute_result"
    }
   ],
   "source": [
    "adata.obs.subclass_label.value_counts()"
   ]
  },
  {
   "cell_type": "code",
   "execution_count": 3,
   "metadata": {},
   "outputs": [],
   "source": [
    "ss = anndata.read_h5ad(\"../../data/notebook/revision/no_filter_isoform.h5ad\")"
   ]
  },
  {
   "cell_type": "code",
   "execution_count": 11,
   "metadata": {},
   "outputs": [],
   "source": [
    "ss = ss[:, ss.var.sort_index().index]"
   ]
  },
  {
   "cell_type": "code",
   "execution_count": 12,
   "metadata": {},
   "outputs": [
    {
     "data": {
      "text/plain": [
       "ArrayView([[-0.02131047,  0.        , -0.03038931, ...,  2.01470867,\n",
       "             2.25286089,  1.22413896],\n",
       "           [-0.02131047,  0.        , -0.03038931, ...,  0.50629538,\n",
       "             0.91804969,  0.31529282],\n",
       "           [-0.02131047,  0.        , -0.03038931, ...,  0.33585474,\n",
       "             0.22635451,  0.17731334],\n",
       "           ...,\n",
       "           [-0.02131047,  0.        , -0.03038931, ..., -6.34526146,\n",
       "             0.66179349,  1.38375585],\n",
       "           [-0.02131047,  0.        , -0.03038931, ...,  0.56053482,\n",
       "            -0.42612873,  1.2261481 ],\n",
       "           [-0.02131047,  0.        , -0.03038931, ..., -1.71379761,\n",
       "            -0.98786612, -0.25959408]])"
      ]
     },
     "execution_count": 12,
     "metadata": {},
     "output_type": "execute_result"
    }
   ],
   "source": [
    "ss.X"
   ]
  },
  {
   "cell_type": "code",
   "execution_count": 10,
   "metadata": {},
   "outputs": [
    {
     "data": {
      "text/plain": [
       "L5 IT          1571\n",
       "L6 CT           904\n",
       "Vip             659\n",
       "L6b             571\n",
       "Pvalb           543\n",
       "L2/3 IT         483\n",
       "Sst             427\n",
       "L6 IT           395\n",
       "Lamp5           377\n",
       "L5/6 NP         208\n",
       "Sncg             84\n",
       "SMC              21\n",
       "L5 PT            12\n",
       "Low Quality      12\n",
       "Astro            10\n",
       "Endo              7\n",
       "VLMC              6\n",
       "L6 IT Car3        5\n",
       "Name: subclass_label, dtype: int64"
      ]
     },
     "execution_count": 10,
     "metadata": {},
     "output_type": "execute_result"
    }
   ],
   "source": [
    "ss.obs.subclass_label.value_counts()"
   ]
  },
  {
   "cell_type": "code",
   "execution_count": 11,
   "metadata": {},
   "outputs": [
    {
     "data": {
      "text/plain": [
       "AnnData object with n_obs × n_vars = 94162 × 111079\n",
       "    obs: 'batch', 'cluster_id', 'cluster_label', 'subclass_label', 'class_label', 'subclass_id', 'class_id'\n",
       "    var: 'transcript_ids', 'ec_len', 'transcript_id', 'transcript_id_nov', 'transcript_name'"
      ]
     },
     "execution_count": 11,
     "metadata": {},
     "output_type": "execute_result"
    }
   ],
   "source": [
    "adata"
   ]
  },
  {
   "cell_type": "code",
   "execution_count": 12,
   "metadata": {},
   "outputs": [
    {
     "data": {
      "text/plain": [
       "AnnData object with n_obs × n_vars = 6295 × 111079\n",
       "    obs: 'cluster_id', 'cluster_label', 'subclass_label', 'class_label', 'cluster_color', 'size', 'cell_id', 'subclass_id', 'class_id', 'cell_counts'\n",
       "    var: 'transcript_id', 'gene_id', 'gene_name', 'transcript_name', 'length', 'gene_counts', 'highly_variable', 'means', 'dispersions', 'dispersions_norm'\n",
       "    uns: 'hvg'\n",
       "    layers: 'X', 'log1p', 'norm'"
      ]
     },
     "execution_count": 12,
     "metadata": {},
     "output_type": "execute_result"
    }
   ],
   "source": [
    "ss"
   ]
  },
  {
   "cell_type": "code",
   "execution_count": 13,
   "metadata": {},
   "outputs": [],
   "source": [
    "ss = ss[:,ss.var.sort_index().index]\n",
    "tenx = adata[:,adata.var.sort_index().index]"
   ]
  },
  {
   "cell_type": "code",
   "execution_count": 14,
   "metadata": {},
   "outputs": [],
   "source": [
    "tenx = tenx[:,tenx.var.index.isin(ss.var.index)]"
   ]
  },
  {
   "cell_type": "code",
   "execution_count": 15,
   "metadata": {},
   "outputs": [],
   "source": [
    "tenx = tenx[:,tenx.var.sort_index().index]"
   ]
  },
  {
   "cell_type": "code",
   "execution_count": 16,
   "metadata": {},
   "outputs": [
    {
     "data": {
      "text/plain": [
       "View of AnnData object with n_obs × n_vars = 94162 × 111079\n",
       "    obs: 'batch', 'cluster_id', 'cluster_label', 'subclass_label', 'class_label', 'subclass_id', 'class_id'\n",
       "    var: 'transcript_ids', 'ec_len', 'transcript_id', 'transcript_id_nov', 'transcript_name'"
      ]
     },
     "execution_count": 16,
     "metadata": {},
     "output_type": "execute_result"
    }
   ],
   "source": [
    "tenx"
   ]
  },
  {
   "cell_type": "code",
   "execution_count": 17,
   "metadata": {},
   "outputs": [
    {
     "data": {
      "text/plain": [
       "View of AnnData object with n_obs × n_vars = 6295 × 111079\n",
       "    obs: 'cluster_id', 'cluster_label', 'subclass_label', 'class_label', 'cluster_color', 'size', 'cell_id', 'subclass_id', 'class_id', 'cell_counts'\n",
       "    var: 'transcript_id', 'gene_id', 'gene_name', 'transcript_name', 'length', 'gene_counts', 'highly_variable', 'means', 'dispersions', 'dispersions_norm'\n",
       "    uns: 'hvg'\n",
       "    layers: 'X', 'log1p', 'norm'"
      ]
     },
     "execution_count": 17,
     "metadata": {},
     "output_type": "execute_result"
    }
   ],
   "source": [
    "ss"
   ]
  },
  {
   "cell_type": "code",
   "execution_count": 18,
   "metadata": {},
   "outputs": [
    {
     "data": {
      "text/html": [
       "<div>\n",
       "<style scoped>\n",
       "    .dataframe tbody tr th:only-of-type {\n",
       "        vertical-align: middle;\n",
       "    }\n",
       "\n",
       "    .dataframe tbody tr th {\n",
       "        vertical-align: top;\n",
       "    }\n",
       "\n",
       "    .dataframe thead th {\n",
       "        text-align: right;\n",
       "    }\n",
       "</style>\n",
       "<table border=\"1\" class=\"dataframe\">\n",
       "  <thead>\n",
       "    <tr style=\"text-align: right;\">\n",
       "      <th></th>\n",
       "      <th>transcript_id</th>\n",
       "      <th>gene_id</th>\n",
       "      <th>gene_name</th>\n",
       "      <th>transcript_name</th>\n",
       "      <th>length</th>\n",
       "      <th>gene_counts</th>\n",
       "      <th>highly_variable</th>\n",
       "      <th>means</th>\n",
       "      <th>dispersions</th>\n",
       "      <th>dispersions_norm</th>\n",
       "    </tr>\n",
       "  </thead>\n",
       "  <tbody>\n",
       "    <tr>\n",
       "      <th>0610005C13Rik-201_ENSMUST00000209416</th>\n",
       "      <td>ENSMUST00000209416</td>\n",
       "      <td>ENSMUSG00000109644</td>\n",
       "      <td>0610005C13Rik_ENSMUSG00000109644</td>\n",
       "      <td>0610005C13Rik-201_ENSMUST00000209416</td>\n",
       "      <td>856</td>\n",
       "      <td>10.149507</td>\n",
       "      <td>False</td>\n",
       "      <td>1.611014e-03</td>\n",
       "      <td>1.382855</td>\n",
       "      <td>-0.505609</td>\n",
       "    </tr>\n",
       "    <tr>\n",
       "      <th>0610005C13Rik-202_ENSMUST00000209510</th>\n",
       "      <td>ENSMUST00000209510</td>\n",
       "      <td>ENSMUSG00000109644</td>\n",
       "      <td>0610005C13Rik_ENSMUSG00000109644</td>\n",
       "      <td>0610005C13Rik-202_ENSMUST00000209510</td>\n",
       "      <td>671</td>\n",
       "      <td>0.000000</td>\n",
       "      <td>False</td>\n",
       "      <td>1.000000e-12</td>\n",
       "      <td>NaN</td>\n",
       "      <td>NaN</td>\n",
       "    </tr>\n",
       "    <tr>\n",
       "      <th>0610005C13Rik-203_ENSMUST00000209910</th>\n",
       "      <td>ENSMUST00000209910</td>\n",
       "      <td>ENSMUSG00000109644</td>\n",
       "      <td>0610005C13Rik_ENSMUSG00000109644</td>\n",
       "      <td>0610005C13Rik-203_ENSMUST00000209910</td>\n",
       "      <td>553</td>\n",
       "      <td>15.954428</td>\n",
       "      <td>False</td>\n",
       "      <td>2.531254e-03</td>\n",
       "      <td>1.198419</td>\n",
       "      <td>-0.606426</td>\n",
       "    </tr>\n",
       "    <tr>\n",
       "      <th>0610005C13Rik-204_ENSMUST00000210383</th>\n",
       "      <td>ENSMUST00000210383</td>\n",
       "      <td>ENSMUSG00000109644</td>\n",
       "      <td>0610005C13Rik_ENSMUSG00000109644</td>\n",
       "      <td>0610005C13Rik-204_ENSMUST00000210383</td>\n",
       "      <td>897</td>\n",
       "      <td>1131.564331</td>\n",
       "      <td>False</td>\n",
       "      <td>1.653077e-01</td>\n",
       "      <td>4.382320</td>\n",
       "      <td>1.133968</td>\n",
       "    </tr>\n",
       "    <tr>\n",
       "      <th>0610005C13Rik-205_ENSMUST00000210569</th>\n",
       "      <td>ENSMUST00000210569</td>\n",
       "      <td>ENSMUSG00000109644</td>\n",
       "      <td>0610005C13Rik_ENSMUSG00000109644</td>\n",
       "      <td>0610005C13Rik-205_ENSMUST00000210569</td>\n",
       "      <td>963</td>\n",
       "      <td>0.000000</td>\n",
       "      <td>False</td>\n",
       "      <td>1.000000e-12</td>\n",
       "      <td>NaN</td>\n",
       "      <td>NaN</td>\n",
       "    </tr>\n",
       "  </tbody>\n",
       "</table>\n",
       "</div>"
      ],
      "text/plain": [
       "                                           transcript_id             gene_id  \\\n",
       "0610005C13Rik-201_ENSMUST00000209416  ENSMUST00000209416  ENSMUSG00000109644   \n",
       "0610005C13Rik-202_ENSMUST00000209510  ENSMUST00000209510  ENSMUSG00000109644   \n",
       "0610005C13Rik-203_ENSMUST00000209910  ENSMUST00000209910  ENSMUSG00000109644   \n",
       "0610005C13Rik-204_ENSMUST00000210383  ENSMUST00000210383  ENSMUSG00000109644   \n",
       "0610005C13Rik-205_ENSMUST00000210569  ENSMUST00000210569  ENSMUSG00000109644   \n",
       "\n",
       "                                                             gene_name  \\\n",
       "0610005C13Rik-201_ENSMUST00000209416  0610005C13Rik_ENSMUSG00000109644   \n",
       "0610005C13Rik-202_ENSMUST00000209510  0610005C13Rik_ENSMUSG00000109644   \n",
       "0610005C13Rik-203_ENSMUST00000209910  0610005C13Rik_ENSMUSG00000109644   \n",
       "0610005C13Rik-204_ENSMUST00000210383  0610005C13Rik_ENSMUSG00000109644   \n",
       "0610005C13Rik-205_ENSMUST00000210569  0610005C13Rik_ENSMUSG00000109644   \n",
       "\n",
       "                                                           transcript_name  \\\n",
       "0610005C13Rik-201_ENSMUST00000209416  0610005C13Rik-201_ENSMUST00000209416   \n",
       "0610005C13Rik-202_ENSMUST00000209510  0610005C13Rik-202_ENSMUST00000209510   \n",
       "0610005C13Rik-203_ENSMUST00000209910  0610005C13Rik-203_ENSMUST00000209910   \n",
       "0610005C13Rik-204_ENSMUST00000210383  0610005C13Rik-204_ENSMUST00000210383   \n",
       "0610005C13Rik-205_ENSMUST00000210569  0610005C13Rik-205_ENSMUST00000210569   \n",
       "\n",
       "                                      length  gene_counts  highly_variable  \\\n",
       "0610005C13Rik-201_ENSMUST00000209416     856    10.149507            False   \n",
       "0610005C13Rik-202_ENSMUST00000209510     671     0.000000            False   \n",
       "0610005C13Rik-203_ENSMUST00000209910     553    15.954428            False   \n",
       "0610005C13Rik-204_ENSMUST00000210383     897  1131.564331            False   \n",
       "0610005C13Rik-205_ENSMUST00000210569     963     0.000000            False   \n",
       "\n",
       "                                             means  dispersions  \\\n",
       "0610005C13Rik-201_ENSMUST00000209416  1.611014e-03     1.382855   \n",
       "0610005C13Rik-202_ENSMUST00000209510  1.000000e-12          NaN   \n",
       "0610005C13Rik-203_ENSMUST00000209910  2.531254e-03     1.198419   \n",
       "0610005C13Rik-204_ENSMUST00000210383  1.653077e-01     4.382320   \n",
       "0610005C13Rik-205_ENSMUST00000210569  1.000000e-12          NaN   \n",
       "\n",
       "                                      dispersions_norm  \n",
       "0610005C13Rik-201_ENSMUST00000209416         -0.505609  \n",
       "0610005C13Rik-202_ENSMUST00000209510               NaN  \n",
       "0610005C13Rik-203_ENSMUST00000209910         -0.606426  \n",
       "0610005C13Rik-204_ENSMUST00000210383          1.133968  \n",
       "0610005C13Rik-205_ENSMUST00000210569               NaN  "
      ]
     },
     "execution_count": 18,
     "metadata": {},
     "output_type": "execute_result"
    }
   ],
   "source": [
    "ss.var.head()"
   ]
  },
  {
   "cell_type": "code",
   "execution_count": 19,
   "metadata": {},
   "outputs": [
    {
     "data": {
      "text/html": [
       "<div>\n",
       "<style scoped>\n",
       "    .dataframe tbody tr th:only-of-type {\n",
       "        vertical-align: middle;\n",
       "    }\n",
       "\n",
       "    .dataframe tbody tr th {\n",
       "        vertical-align: top;\n",
       "    }\n",
       "\n",
       "    .dataframe thead th {\n",
       "        text-align: right;\n",
       "    }\n",
       "</style>\n",
       "<table border=\"1\" class=\"dataframe\">\n",
       "  <thead>\n",
       "    <tr style=\"text-align: right;\">\n",
       "      <th></th>\n",
       "      <th>transcript_ids</th>\n",
       "      <th>ec_len</th>\n",
       "      <th>transcript_id</th>\n",
       "      <th>transcript_id_nov</th>\n",
       "      <th>transcript_name</th>\n",
       "    </tr>\n",
       "  </thead>\n",
       "  <tbody>\n",
       "    <tr>\n",
       "      <th>0610005C13Rik-201_ENSMUST00000209416</th>\n",
       "      <td>['ENSMUST00000209416.1']</td>\n",
       "      <td>1</td>\n",
       "      <td>ENSMUST00000209416.1</td>\n",
       "      <td>ENSMUST00000209416</td>\n",
       "      <td>0610005C13Rik-201_ENSMUST00000209416</td>\n",
       "    </tr>\n",
       "    <tr>\n",
       "      <th>0610005C13Rik-202_ENSMUST00000209510</th>\n",
       "      <td>['ENSMUST00000209510.1']</td>\n",
       "      <td>1</td>\n",
       "      <td>ENSMUST00000209510.1</td>\n",
       "      <td>ENSMUST00000209510</td>\n",
       "      <td>0610005C13Rik-202_ENSMUST00000209510</td>\n",
       "    </tr>\n",
       "    <tr>\n",
       "      <th>0610005C13Rik-203_ENSMUST00000209910</th>\n",
       "      <td>['ENSMUST00000209910.1']</td>\n",
       "      <td>1</td>\n",
       "      <td>ENSMUST00000209910.1</td>\n",
       "      <td>ENSMUST00000209910</td>\n",
       "      <td>0610005C13Rik-203_ENSMUST00000209910</td>\n",
       "    </tr>\n",
       "    <tr>\n",
       "      <th>0610005C13Rik-204_ENSMUST00000210383</th>\n",
       "      <td>['ENSMUST00000210383.1']</td>\n",
       "      <td>1</td>\n",
       "      <td>ENSMUST00000210383.1</td>\n",
       "      <td>ENSMUST00000210383</td>\n",
       "      <td>0610005C13Rik-204_ENSMUST00000210383</td>\n",
       "    </tr>\n",
       "    <tr>\n",
       "      <th>0610005C13Rik-205_ENSMUST00000210569</th>\n",
       "      <td>['ENSMUST00000210569.1']</td>\n",
       "      <td>1</td>\n",
       "      <td>ENSMUST00000210569.1</td>\n",
       "      <td>ENSMUST00000210569</td>\n",
       "      <td>0610005C13Rik-205_ENSMUST00000210569</td>\n",
       "    </tr>\n",
       "  </tbody>\n",
       "</table>\n",
       "</div>"
      ],
      "text/plain": [
       "                                                transcript_ids  ec_len  \\\n",
       "0610005C13Rik-201_ENSMUST00000209416  ['ENSMUST00000209416.1']       1   \n",
       "0610005C13Rik-202_ENSMUST00000209510  ['ENSMUST00000209510.1']       1   \n",
       "0610005C13Rik-203_ENSMUST00000209910  ['ENSMUST00000209910.1']       1   \n",
       "0610005C13Rik-204_ENSMUST00000210383  ['ENSMUST00000210383.1']       1   \n",
       "0610005C13Rik-205_ENSMUST00000210569  ['ENSMUST00000210569.1']       1   \n",
       "\n",
       "                                             transcript_id  \\\n",
       "0610005C13Rik-201_ENSMUST00000209416  ENSMUST00000209416.1   \n",
       "0610005C13Rik-202_ENSMUST00000209510  ENSMUST00000209510.1   \n",
       "0610005C13Rik-203_ENSMUST00000209910  ENSMUST00000209910.1   \n",
       "0610005C13Rik-204_ENSMUST00000210383  ENSMUST00000210383.1   \n",
       "0610005C13Rik-205_ENSMUST00000210569  ENSMUST00000210569.1   \n",
       "\n",
       "                                       transcript_id_nov  \\\n",
       "0610005C13Rik-201_ENSMUST00000209416  ENSMUST00000209416   \n",
       "0610005C13Rik-202_ENSMUST00000209510  ENSMUST00000209510   \n",
       "0610005C13Rik-203_ENSMUST00000209910  ENSMUST00000209910   \n",
       "0610005C13Rik-204_ENSMUST00000210383  ENSMUST00000210383   \n",
       "0610005C13Rik-205_ENSMUST00000210569  ENSMUST00000210569   \n",
       "\n",
       "                                                           transcript_name  \n",
       "0610005C13Rik-201_ENSMUST00000209416  0610005C13Rik-201_ENSMUST00000209416  \n",
       "0610005C13Rik-202_ENSMUST00000209510  0610005C13Rik-202_ENSMUST00000209510  \n",
       "0610005C13Rik-203_ENSMUST00000209910  0610005C13Rik-203_ENSMUST00000209910  \n",
       "0610005C13Rik-204_ENSMUST00000210383  0610005C13Rik-204_ENSMUST00000210383  \n",
       "0610005C13Rik-205_ENSMUST00000210569  0610005C13Rik-205_ENSMUST00000210569  "
      ]
     },
     "execution_count": 19,
     "metadata": {},
     "output_type": "execute_result"
    }
   ],
   "source": [
    "tenx.var.head()"
   ]
  },
  {
   "cell_type": "markdown",
   "metadata": {},
   "source": [
    "# Process"
   ]
  },
  {
   "cell_type": "code",
   "execution_count": 20,
   "metadata": {},
   "outputs": [],
   "source": [
    "del adata"
   ]
  },
  {
   "cell_type": "code",
   "execution_count": 21,
   "metadata": {},
   "outputs": [],
   "source": [
    "from sklearn.preprocessing import normalize"
   ]
  },
  {
   "cell_type": "code",
   "execution_count": 22,
   "metadata": {},
   "outputs": [],
   "source": [
    "tenx.layers[\"X\"] = tenx.X\n",
    "tenx.layers[\"norm\"] = normalize(tenx.X, norm='l1', axis=1)*1000000\n",
    "tenx.layers[\"log1p\"] = csr_matrix(np.log1p(tenx.layers[\"norm\"]))"
   ]
  },
  {
   "cell_type": "code",
   "execution_count": 23,
   "metadata": {},
   "outputs": [],
   "source": [
    "from sklearn.preprocessing import scale"
   ]
  },
  {
   "cell_type": "code",
   "execution_count": 24,
   "metadata": {},
   "outputs": [
    {
     "name": "stdout",
     "output_type": "stream",
     "text": [
      "CPU times: user 38min 36s, sys: 39min 51s, total: 1h 18min 27s\n",
      "Wall time: 1h 18min 37s\n"
     ]
    }
   ],
   "source": [
    "%%time\n",
    "mat = tenx.layers[\"log1p\"].todense()\n",
    "mtx = scale(mat, axis=0, with_mean=True, with_std=True, copy=True)\n",
    "tenx.X = mtx"
   ]
  },
  {
   "cell_type": "code",
   "execution_count": 25,
   "metadata": {},
   "outputs": [],
   "source": [
    "tenx.write(\"../../data/notebook/revision/10xv3_isoform_processed.h5ad\")"
   ]
  },
  {
   "cell_type": "code",
   "execution_count": 25,
   "metadata": {},
   "outputs": [],
   "source": [
    "del mat"
   ]
  },
  {
   "cell_type": "code",
   "execution_count": null,
   "metadata": {},
   "outputs": [],
   "source": []
  }
 ],
 "metadata": {
  "kernelspec": {
   "display_name": "Python 3",
   "language": "python",
   "name": "python3"
  },
  "language_info": {
   "codemirror_mode": {
    "name": "ipython",
    "version": 3
   },
   "file_extension": ".py",
   "mimetype": "text/x-python",
   "name": "python",
   "nbconvert_exporter": "python",
   "pygments_lexer": "ipython3",
   "version": "3.7.4"
  }
 },
 "nbformat": 4,
 "nbformat_minor": 4
}
